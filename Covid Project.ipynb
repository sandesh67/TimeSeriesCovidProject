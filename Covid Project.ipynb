{
 "cells": [
  {
   "cell_type": "code",
   "execution_count": 1,
   "metadata": {},
   "outputs": [],
   "source": [
    "import pandas as pd\n",
    "import numpy as np\n",
    "from statsmodels.graphics.tsaplots import plot_acf\n",
    "from pandas.plotting import autocorrelation_plot"
   ]
  },
  {
   "cell_type": "code",
   "execution_count": 2,
   "metadata": {},
   "outputs": [],
   "source": [
    "df = pd.read_json('all_totals.json')"
   ]
  },
  {
   "cell_type": "code",
   "execution_count": 3,
   "metadata": {},
   "outputs": [],
   "source": [
    "df['rows']= df['rows'].astype(str)"
   ]
  },
  {
   "cell_type": "code",
   "execution_count": 4,
   "metadata": {},
   "outputs": [
    {
     "data": {
      "text/plain": [
       "0       {'key': ['2020-01-30T13:33:00.00+05:30', 'acti...\n",
       "1       {'key': ['2020-01-30T13:33:00.00+05:30', 'cure...\n",
       "2       {'key': ['2020-01-30T13:33:00.00+05:30', 'deat...\n",
       "3       {'key': ['2020-01-30T13:33:00.00+05:30', 'tota...\n",
       "4       {'key': ['2020-02-02T10:39:00.00+05:30', 'acti...\n",
       "                              ...                        \n",
       "1283    {'key': ['2020-11-19T08:00:00.00+05:30', 'tota...\n",
       "1284    {'key': ['2020-11-20T08:00:00.00+05:30', 'acti...\n",
       "1285    {'key': ['2020-11-20T08:00:00.00+05:30', 'cure...\n",
       "1286    {'key': ['2020-11-20T08:00:00.00+05:30', 'deat...\n",
       "1287    {'key': ['2020-11-20T08:00:00.00+05:30', 'tota...\n",
       "Name: rows, Length: 1288, dtype: object"
      ]
     },
     "execution_count": 4,
     "metadata": {},
     "output_type": "execute_result"
    }
   ],
   "source": [
    "df['rows']"
   ]
  },
  {
   "cell_type": "code",
   "execution_count": 5,
   "metadata": {},
   "outputs": [],
   "source": [
    "df['rows'] = df['rows'].apply(lambda x : str(x).replace('{\\'key\\':',''))"
   ]
  },
  {
   "cell_type": "code",
   "execution_count": 6,
   "metadata": {},
   "outputs": [],
   "source": [
    "df['rows'] = df['rows'].apply(lambda x : str(x).replace('[','').replace(']','').replace('}',''))"
   ]
  },
  {
   "cell_type": "code",
   "execution_count": 7,
   "metadata": {},
   "outputs": [
    {
     "data": {
      "text/plain": [
       "0        '2020-01-30T13:33:00.00+05:30', 'active_cases...\n",
       "1        '2020-01-30T13:33:00.00+05:30', 'cured', 'val...\n",
       "2        '2020-01-30T13:33:00.00+05:30', 'death', 'val...\n",
       "3        '2020-01-30T13:33:00.00+05:30', 'total_confir...\n",
       "4        '2020-02-02T10:39:00.00+05:30', 'active_cases...\n",
       "                              ...                        \n",
       "1283     '2020-11-19T08:00:00.00+05:30', 'total_confir...\n",
       "1284     '2020-11-20T08:00:00.00+05:30', 'active_cases...\n",
       "1285     '2020-11-20T08:00:00.00+05:30', 'cured', 'val...\n",
       "1286     '2020-11-20T08:00:00.00+05:30', 'death', 'val...\n",
       "1287     '2020-11-20T08:00:00.00+05:30', 'total_confir...\n",
       "Name: rows, Length: 1288, dtype: object"
      ]
     },
     "execution_count": 7,
     "metadata": {},
     "output_type": "execute_result"
    }
   ],
   "source": [
    "df['rows']"
   ]
  },
  {
   "cell_type": "code",
   "execution_count": 8,
   "metadata": {},
   "outputs": [
    {
     "data": {
      "text/plain": [
       "\" '2020-01-30T13:33:00.00+05:30', 'active_cases', 'value': 1\""
      ]
     },
     "execution_count": 8,
     "metadata": {},
     "output_type": "execute_result"
    }
   ],
   "source": [
    "df.iloc[0,0]"
   ]
  },
  {
   "cell_type": "code",
   "execution_count": 9,
   "metadata": {},
   "outputs": [],
   "source": [
    "df['date'] = df['rows'].apply(lambda x : str(x).split(',')[0])\n",
    "df['category'] = df['rows'].apply(lambda x : str(x).split(',')[1])\n",
    "df['value'] = df['rows'].apply(lambda x : str(x).split(',')[2].replace('\\'value\\':',''))"
   ]
  },
  {
   "cell_type": "code",
   "execution_count": null,
   "metadata": {},
   "outputs": [],
   "source": []
  },
  {
   "cell_type": "code",
   "execution_count": null,
   "metadata": {},
   "outputs": [],
   "source": []
  },
  {
   "cell_type": "code",
   "execution_count": null,
   "metadata": {},
   "outputs": [],
   "source": []
  },
  {
   "cell_type": "code",
   "execution_count": 11,
   "metadata": {},
   "outputs": [
    {
     "data": {
      "text/html": [
       "<div>\n",
       "<style scoped>\n",
       "    .dataframe tbody tr th:only-of-type {\n",
       "        vertical-align: middle;\n",
       "    }\n",
       "\n",
       "    .dataframe tbody tr th {\n",
       "        vertical-align: top;\n",
       "    }\n",
       "\n",
       "    .dataframe thead th {\n",
       "        text-align: right;\n",
       "    }\n",
       "</style>\n",
       "<table border=\"1\" class=\"dataframe\">\n",
       "  <thead>\n",
       "    <tr style=\"text-align: right;\">\n",
       "      <th></th>\n",
       "      <th>rows</th>\n",
       "      <th>date</th>\n",
       "      <th>category</th>\n",
       "      <th>value</th>\n",
       "    </tr>\n",
       "  </thead>\n",
       "  <tbody>\n",
       "    <tr>\n",
       "      <td>0</td>\n",
       "      <td>'2020-01-30T13:33:00.00+05:30', 'active_cases...</td>\n",
       "      <td>'2020-01-30T13:33:00.00+05:30'</td>\n",
       "      <td>'active_cases'</td>\n",
       "      <td>1</td>\n",
       "    </tr>\n",
       "    <tr>\n",
       "      <td>1</td>\n",
       "      <td>'2020-01-30T13:33:00.00+05:30', 'cured', 'val...</td>\n",
       "      <td>'2020-01-30T13:33:00.00+05:30'</td>\n",
       "      <td>'cured'</td>\n",
       "      <td>0</td>\n",
       "    </tr>\n",
       "    <tr>\n",
       "      <td>2</td>\n",
       "      <td>'2020-01-30T13:33:00.00+05:30', 'death', 'val...</td>\n",
       "      <td>'2020-01-30T13:33:00.00+05:30'</td>\n",
       "      <td>'death'</td>\n",
       "      <td>0</td>\n",
       "    </tr>\n",
       "    <tr>\n",
       "      <td>3</td>\n",
       "      <td>'2020-01-30T13:33:00.00+05:30', 'total_confir...</td>\n",
       "      <td>'2020-01-30T13:33:00.00+05:30'</td>\n",
       "      <td>'total_confirmed_cases'</td>\n",
       "      <td>1</td>\n",
       "    </tr>\n",
       "    <tr>\n",
       "      <td>4</td>\n",
       "      <td>'2020-02-02T10:39:00.00+05:30', 'active_cases...</td>\n",
       "      <td>'2020-02-02T10:39:00.00+05:30'</td>\n",
       "      <td>'active_cases'</td>\n",
       "      <td>2</td>\n",
       "    </tr>\n",
       "  </tbody>\n",
       "</table>\n",
       "</div>"
      ],
      "text/plain": [
       "                                                rows  \\\n",
       "0   '2020-01-30T13:33:00.00+05:30', 'active_cases...   \n",
       "1   '2020-01-30T13:33:00.00+05:30', 'cured', 'val...   \n",
       "2   '2020-01-30T13:33:00.00+05:30', 'death', 'val...   \n",
       "3   '2020-01-30T13:33:00.00+05:30', 'total_confir...   \n",
       "4   '2020-02-02T10:39:00.00+05:30', 'active_cases...   \n",
       "\n",
       "                              date                  category value  \n",
       "0   '2020-01-30T13:33:00.00+05:30'            'active_cases'     1  \n",
       "1   '2020-01-30T13:33:00.00+05:30'                   'cured'     0  \n",
       "2   '2020-01-30T13:33:00.00+05:30'                   'death'     0  \n",
       "3   '2020-01-30T13:33:00.00+05:30'   'total_confirmed_cases'     1  \n",
       "4   '2020-02-02T10:39:00.00+05:30'            'active_cases'     2  "
      ]
     },
     "execution_count": 11,
     "metadata": {},
     "output_type": "execute_result"
    }
   ],
   "source": [
    "df.head()"
   ]
  },
  {
   "cell_type": "code",
   "execution_count": 12,
   "metadata": {},
   "outputs": [
    {
     "data": {
      "text/plain": [
       " 'death'                    322\n",
       " 'cured'                    322\n",
       " 'active_cases'             322\n",
       " 'total_confirmed_cases'    322\n",
       "Name: category, dtype: int64"
      ]
     },
     "execution_count": 12,
     "metadata": {},
     "output_type": "execute_result"
    }
   ],
   "source": [
    "df['category'].value_counts()"
   ]
  },
  {
   "cell_type": "code",
   "execution_count": null,
   "metadata": {},
   "outputs": [],
   "source": []
  },
  {
   "cell_type": "code",
   "execution_count": 13,
   "metadata": {},
   "outputs": [
    {
     "name": "stdout",
     "output_type": "stream",
     "text": [
      "<class 'pandas.core.frame.DataFrame'>\n",
      "RangeIndex: 1288 entries, 0 to 1287\n",
      "Data columns (total 4 columns):\n",
      "rows        1288 non-null object\n",
      "date        1288 non-null object\n",
      "category    1288 non-null object\n",
      "value       1288 non-null object\n",
      "dtypes: object(4)\n",
      "memory usage: 40.4+ KB\n"
     ]
    }
   ],
   "source": [
    "df.info()"
   ]
  },
  {
   "cell_type": "code",
   "execution_count": 14,
   "metadata": {},
   "outputs": [],
   "source": [
    "df['category']=df['category'].astype(str)"
   ]
  },
  {
   "cell_type": "code",
   "execution_count": 15,
   "metadata": {},
   "outputs": [
    {
     "data": {
      "text/html": [
       "<div>\n",
       "<style scoped>\n",
       "    .dataframe tbody tr th:only-of-type {\n",
       "        vertical-align: middle;\n",
       "    }\n",
       "\n",
       "    .dataframe tbody tr th {\n",
       "        vertical-align: top;\n",
       "    }\n",
       "\n",
       "    .dataframe thead th {\n",
       "        text-align: right;\n",
       "    }\n",
       "</style>\n",
       "<table border=\"1\" class=\"dataframe\">\n",
       "  <thead>\n",
       "    <tr style=\"text-align: right;\">\n",
       "      <th></th>\n",
       "      <th>rows</th>\n",
       "      <th>date</th>\n",
       "      <th>category</th>\n",
       "      <th>value</th>\n",
       "    </tr>\n",
       "  </thead>\n",
       "  <tbody>\n",
       "  </tbody>\n",
       "</table>\n",
       "</div>"
      ],
      "text/plain": [
       "Empty DataFrame\n",
       "Columns: [rows, date, category, value]\n",
       "Index: []"
      ]
     },
     "execution_count": 15,
     "metadata": {},
     "output_type": "execute_result"
    }
   ],
   "source": [
    "df[df['category']=='active_cases']"
   ]
  },
  {
   "cell_type": "code",
   "execution_count": 16,
   "metadata": {},
   "outputs": [],
   "source": [
    "df['date']= df['date'].apply(lambda x : str(x).replace('\\'', ''))"
   ]
  },
  {
   "cell_type": "code",
   "execution_count": 17,
   "metadata": {},
   "outputs": [
    {
     "data": {
      "text/html": [
       "<div>\n",
       "<style scoped>\n",
       "    .dataframe tbody tr th:only-of-type {\n",
       "        vertical-align: middle;\n",
       "    }\n",
       "\n",
       "    .dataframe tbody tr th {\n",
       "        vertical-align: top;\n",
       "    }\n",
       "\n",
       "    .dataframe thead th {\n",
       "        text-align: right;\n",
       "    }\n",
       "</style>\n",
       "<table border=\"1\" class=\"dataframe\">\n",
       "  <thead>\n",
       "    <tr style=\"text-align: right;\">\n",
       "      <th></th>\n",
       "      <th>rows</th>\n",
       "      <th>date</th>\n",
       "      <th>category</th>\n",
       "      <th>value</th>\n",
       "    </tr>\n",
       "  </thead>\n",
       "  <tbody>\n",
       "    <tr>\n",
       "      <td>0</td>\n",
       "      <td>'2020-01-30T13:33:00.00+05:30', 'active_cases...</td>\n",
       "      <td>2020-01-30T13:33:00.00+05:30</td>\n",
       "      <td>'active_cases'</td>\n",
       "      <td>1</td>\n",
       "    </tr>\n",
       "    <tr>\n",
       "      <td>1</td>\n",
       "      <td>'2020-01-30T13:33:00.00+05:30', 'cured', 'val...</td>\n",
       "      <td>2020-01-30T13:33:00.00+05:30</td>\n",
       "      <td>'cured'</td>\n",
       "      <td>0</td>\n",
       "    </tr>\n",
       "    <tr>\n",
       "      <td>2</td>\n",
       "      <td>'2020-01-30T13:33:00.00+05:30', 'death', 'val...</td>\n",
       "      <td>2020-01-30T13:33:00.00+05:30</td>\n",
       "      <td>'death'</td>\n",
       "      <td>0</td>\n",
       "    </tr>\n",
       "    <tr>\n",
       "      <td>3</td>\n",
       "      <td>'2020-01-30T13:33:00.00+05:30', 'total_confir...</td>\n",
       "      <td>2020-01-30T13:33:00.00+05:30</td>\n",
       "      <td>'total_confirmed_cases'</td>\n",
       "      <td>1</td>\n",
       "    </tr>\n",
       "    <tr>\n",
       "      <td>4</td>\n",
       "      <td>'2020-02-02T10:39:00.00+05:30', 'active_cases...</td>\n",
       "      <td>2020-02-02T10:39:00.00+05:30</td>\n",
       "      <td>'active_cases'</td>\n",
       "      <td>2</td>\n",
       "    </tr>\n",
       "    <tr>\n",
       "      <td>...</td>\n",
       "      <td>...</td>\n",
       "      <td>...</td>\n",
       "      <td>...</td>\n",
       "      <td>...</td>\n",
       "    </tr>\n",
       "    <tr>\n",
       "      <td>1283</td>\n",
       "      <td>'2020-11-19T08:00:00.00+05:30', 'total_confir...</td>\n",
       "      <td>2020-11-19T08:00:00.00+05:30</td>\n",
       "      <td>'total_confirmed_cases'</td>\n",
       "      <td>8958483</td>\n",
       "    </tr>\n",
       "    <tr>\n",
       "      <td>1284</td>\n",
       "      <td>'2020-11-20T08:00:00.00+05:30', 'active_cases...</td>\n",
       "      <td>2020-11-20T08:00:00.00+05:30</td>\n",
       "      <td>'active_cases'</td>\n",
       "      <td>443794</td>\n",
       "    </tr>\n",
       "    <tr>\n",
       "      <td>1285</td>\n",
       "      <td>'2020-11-20T08:00:00.00+05:30', 'cured', 'val...</td>\n",
       "      <td>2020-11-20T08:00:00.00+05:30</td>\n",
       "      <td>'cured'</td>\n",
       "      <td>8428409</td>\n",
       "    </tr>\n",
       "    <tr>\n",
       "      <td>1286</td>\n",
       "      <td>'2020-11-20T08:00:00.00+05:30', 'death', 'val...</td>\n",
       "      <td>2020-11-20T08:00:00.00+05:30</td>\n",
       "      <td>'death'</td>\n",
       "      <td>132162</td>\n",
       "    </tr>\n",
       "    <tr>\n",
       "      <td>1287</td>\n",
       "      <td>'2020-11-20T08:00:00.00+05:30', 'total_confir...</td>\n",
       "      <td>2020-11-20T08:00:00.00+05:30</td>\n",
       "      <td>'total_confirmed_cases'</td>\n",
       "      <td>9004365</td>\n",
       "    </tr>\n",
       "  </tbody>\n",
       "</table>\n",
       "<p>1288 rows × 4 columns</p>\n",
       "</div>"
      ],
      "text/plain": [
       "                                                   rows  \\\n",
       "0      '2020-01-30T13:33:00.00+05:30', 'active_cases...   \n",
       "1      '2020-01-30T13:33:00.00+05:30', 'cured', 'val...   \n",
       "2      '2020-01-30T13:33:00.00+05:30', 'death', 'val...   \n",
       "3      '2020-01-30T13:33:00.00+05:30', 'total_confir...   \n",
       "4      '2020-02-02T10:39:00.00+05:30', 'active_cases...   \n",
       "...                                                 ...   \n",
       "1283   '2020-11-19T08:00:00.00+05:30', 'total_confir...   \n",
       "1284   '2020-11-20T08:00:00.00+05:30', 'active_cases...   \n",
       "1285   '2020-11-20T08:00:00.00+05:30', 'cured', 'val...   \n",
       "1286   '2020-11-20T08:00:00.00+05:30', 'death', 'val...   \n",
       "1287   '2020-11-20T08:00:00.00+05:30', 'total_confir...   \n",
       "\n",
       "                               date                  category      value  \n",
       "0      2020-01-30T13:33:00.00+05:30            'active_cases'          1  \n",
       "1      2020-01-30T13:33:00.00+05:30                   'cured'          0  \n",
       "2      2020-01-30T13:33:00.00+05:30                   'death'          0  \n",
       "3      2020-01-30T13:33:00.00+05:30   'total_confirmed_cases'          1  \n",
       "4      2020-02-02T10:39:00.00+05:30            'active_cases'          2  \n",
       "...                             ...                       ...        ...  \n",
       "1283   2020-11-19T08:00:00.00+05:30   'total_confirmed_cases'    8958483  \n",
       "1284   2020-11-20T08:00:00.00+05:30            'active_cases'     443794  \n",
       "1285   2020-11-20T08:00:00.00+05:30                   'cured'    8428409  \n",
       "1286   2020-11-20T08:00:00.00+05:30                   'death'     132162  \n",
       "1287   2020-11-20T08:00:00.00+05:30   'total_confirmed_cases'    9004365  \n",
       "\n",
       "[1288 rows x 4 columns]"
      ]
     },
     "execution_count": 17,
     "metadata": {},
     "output_type": "execute_result"
    }
   ],
   "source": [
    "df"
   ]
  },
  {
   "cell_type": "code",
   "execution_count": 18,
   "metadata": {},
   "outputs": [],
   "source": [
    "df['category'] = df['category'].apply(lambda x : str(x).replace('\\'',''))"
   ]
  },
  {
   "cell_type": "code",
   "execution_count": 19,
   "metadata": {},
   "outputs": [
    {
     "data": {
      "text/html": [
       "<div>\n",
       "<style scoped>\n",
       "    .dataframe tbody tr th:only-of-type {\n",
       "        vertical-align: middle;\n",
       "    }\n",
       "\n",
       "    .dataframe tbody tr th {\n",
       "        vertical-align: top;\n",
       "    }\n",
       "\n",
       "    .dataframe thead th {\n",
       "        text-align: right;\n",
       "    }\n",
       "</style>\n",
       "<table border=\"1\" class=\"dataframe\">\n",
       "  <thead>\n",
       "    <tr style=\"text-align: right;\">\n",
       "      <th></th>\n",
       "      <th>rows</th>\n",
       "      <th>date</th>\n",
       "      <th>category</th>\n",
       "      <th>value</th>\n",
       "    </tr>\n",
       "  </thead>\n",
       "  <tbody>\n",
       "    <tr>\n",
       "      <td>0</td>\n",
       "      <td>'2020-01-30T13:33:00.00+05:30', 'active_cases...</td>\n",
       "      <td>2020-01-30T13:33:00.00+05:30</td>\n",
       "      <td>active_cases</td>\n",
       "      <td>1</td>\n",
       "    </tr>\n",
       "    <tr>\n",
       "      <td>1</td>\n",
       "      <td>'2020-01-30T13:33:00.00+05:30', 'cured', 'val...</td>\n",
       "      <td>2020-01-30T13:33:00.00+05:30</td>\n",
       "      <td>cured</td>\n",
       "      <td>0</td>\n",
       "    </tr>\n",
       "    <tr>\n",
       "      <td>2</td>\n",
       "      <td>'2020-01-30T13:33:00.00+05:30', 'death', 'val...</td>\n",
       "      <td>2020-01-30T13:33:00.00+05:30</td>\n",
       "      <td>death</td>\n",
       "      <td>0</td>\n",
       "    </tr>\n",
       "    <tr>\n",
       "      <td>3</td>\n",
       "      <td>'2020-01-30T13:33:00.00+05:30', 'total_confir...</td>\n",
       "      <td>2020-01-30T13:33:00.00+05:30</td>\n",
       "      <td>total_confirmed_cases</td>\n",
       "      <td>1</td>\n",
       "    </tr>\n",
       "    <tr>\n",
       "      <td>4</td>\n",
       "      <td>'2020-02-02T10:39:00.00+05:30', 'active_cases...</td>\n",
       "      <td>2020-02-02T10:39:00.00+05:30</td>\n",
       "      <td>active_cases</td>\n",
       "      <td>2</td>\n",
       "    </tr>\n",
       "    <tr>\n",
       "      <td>...</td>\n",
       "      <td>...</td>\n",
       "      <td>...</td>\n",
       "      <td>...</td>\n",
       "      <td>...</td>\n",
       "    </tr>\n",
       "    <tr>\n",
       "      <td>1283</td>\n",
       "      <td>'2020-11-19T08:00:00.00+05:30', 'total_confir...</td>\n",
       "      <td>2020-11-19T08:00:00.00+05:30</td>\n",
       "      <td>total_confirmed_cases</td>\n",
       "      <td>8958483</td>\n",
       "    </tr>\n",
       "    <tr>\n",
       "      <td>1284</td>\n",
       "      <td>'2020-11-20T08:00:00.00+05:30', 'active_cases...</td>\n",
       "      <td>2020-11-20T08:00:00.00+05:30</td>\n",
       "      <td>active_cases</td>\n",
       "      <td>443794</td>\n",
       "    </tr>\n",
       "    <tr>\n",
       "      <td>1285</td>\n",
       "      <td>'2020-11-20T08:00:00.00+05:30', 'cured', 'val...</td>\n",
       "      <td>2020-11-20T08:00:00.00+05:30</td>\n",
       "      <td>cured</td>\n",
       "      <td>8428409</td>\n",
       "    </tr>\n",
       "    <tr>\n",
       "      <td>1286</td>\n",
       "      <td>'2020-11-20T08:00:00.00+05:30', 'death', 'val...</td>\n",
       "      <td>2020-11-20T08:00:00.00+05:30</td>\n",
       "      <td>death</td>\n",
       "      <td>132162</td>\n",
       "    </tr>\n",
       "    <tr>\n",
       "      <td>1287</td>\n",
       "      <td>'2020-11-20T08:00:00.00+05:30', 'total_confir...</td>\n",
       "      <td>2020-11-20T08:00:00.00+05:30</td>\n",
       "      <td>total_confirmed_cases</td>\n",
       "      <td>9004365</td>\n",
       "    </tr>\n",
       "  </tbody>\n",
       "</table>\n",
       "<p>1288 rows × 4 columns</p>\n",
       "</div>"
      ],
      "text/plain": [
       "                                                   rows  \\\n",
       "0      '2020-01-30T13:33:00.00+05:30', 'active_cases...   \n",
       "1      '2020-01-30T13:33:00.00+05:30', 'cured', 'val...   \n",
       "2      '2020-01-30T13:33:00.00+05:30', 'death', 'val...   \n",
       "3      '2020-01-30T13:33:00.00+05:30', 'total_confir...   \n",
       "4      '2020-02-02T10:39:00.00+05:30', 'active_cases...   \n",
       "...                                                 ...   \n",
       "1283   '2020-11-19T08:00:00.00+05:30', 'total_confir...   \n",
       "1284   '2020-11-20T08:00:00.00+05:30', 'active_cases...   \n",
       "1285   '2020-11-20T08:00:00.00+05:30', 'cured', 'val...   \n",
       "1286   '2020-11-20T08:00:00.00+05:30', 'death', 'val...   \n",
       "1287   '2020-11-20T08:00:00.00+05:30', 'total_confir...   \n",
       "\n",
       "                               date                category      value  \n",
       "0      2020-01-30T13:33:00.00+05:30            active_cases          1  \n",
       "1      2020-01-30T13:33:00.00+05:30                   cured          0  \n",
       "2      2020-01-30T13:33:00.00+05:30                   death          0  \n",
       "3      2020-01-30T13:33:00.00+05:30   total_confirmed_cases          1  \n",
       "4      2020-02-02T10:39:00.00+05:30            active_cases          2  \n",
       "...                             ...                     ...        ...  \n",
       "1283   2020-11-19T08:00:00.00+05:30   total_confirmed_cases    8958483  \n",
       "1284   2020-11-20T08:00:00.00+05:30            active_cases     443794  \n",
       "1285   2020-11-20T08:00:00.00+05:30                   cured    8428409  \n",
       "1286   2020-11-20T08:00:00.00+05:30                   death     132162  \n",
       "1287   2020-11-20T08:00:00.00+05:30   total_confirmed_cases    9004365  \n",
       "\n",
       "[1288 rows x 4 columns]"
      ]
     },
     "execution_count": 19,
     "metadata": {},
     "output_type": "execute_result"
    }
   ],
   "source": [
    "df"
   ]
  },
  {
   "cell_type": "code",
   "execution_count": null,
   "metadata": {},
   "outputs": [],
   "source": []
  },
  {
   "cell_type": "code",
   "execution_count": 20,
   "metadata": {},
   "outputs": [
    {
     "data": {
      "text/html": [
       "<div>\n",
       "<style scoped>\n",
       "    .dataframe tbody tr th:only-of-type {\n",
       "        vertical-align: middle;\n",
       "    }\n",
       "\n",
       "    .dataframe tbody tr th {\n",
       "        vertical-align: top;\n",
       "    }\n",
       "\n",
       "    .dataframe thead th {\n",
       "        text-align: right;\n",
       "    }\n",
       "</style>\n",
       "<table border=\"1\" class=\"dataframe\">\n",
       "  <thead>\n",
       "    <tr style=\"text-align: right;\">\n",
       "      <th></th>\n",
       "      <th>rows</th>\n",
       "      <th>date</th>\n",
       "      <th>category</th>\n",
       "      <th>value</th>\n",
       "    </tr>\n",
       "  </thead>\n",
       "  <tbody>\n",
       "  </tbody>\n",
       "</table>\n",
       "</div>"
      ],
      "text/plain": [
       "Empty DataFrame\n",
       "Columns: [rows, date, category, value]\n",
       "Index: []"
      ]
     },
     "execution_count": 20,
     "metadata": {},
     "output_type": "execute_result"
    }
   ],
   "source": [
    "df[df['category']=='total_confirmed_cases']"
   ]
  },
  {
   "cell_type": "code",
   "execution_count": 21,
   "metadata": {},
   "outputs": [],
   "source": [
    "df['value'] = df['value'].astype(int)"
   ]
  },
  {
   "cell_type": "code",
   "execution_count": 22,
   "metadata": {},
   "outputs": [
    {
     "name": "stdout",
     "output_type": "stream",
     "text": [
      "<class 'pandas.core.frame.DataFrame'>\n",
      "RangeIndex: 1288 entries, 0 to 1287\n",
      "Data columns (total 4 columns):\n",
      "rows        1288 non-null object\n",
      "date        1288 non-null object\n",
      "category    1288 non-null object\n",
      "value       1288 non-null int32\n",
      "dtypes: int32(1), object(3)\n",
      "memory usage: 35.3+ KB\n"
     ]
    }
   ],
   "source": [
    "df.info()"
   ]
  },
  {
   "cell_type": "code",
   "execution_count": 23,
   "metadata": {},
   "outputs": [],
   "source": [
    "df['category'] = df['category'].astype(str)"
   ]
  },
  {
   "cell_type": "code",
   "execution_count": 24,
   "metadata": {},
   "outputs": [
    {
     "name": "stdout",
     "output_type": "stream",
     "text": [
      "<class 'pandas.core.frame.DataFrame'>\n",
      "RangeIndex: 1288 entries, 0 to 1287\n",
      "Data columns (total 4 columns):\n",
      "rows        1288 non-null object\n",
      "date        1288 non-null object\n",
      "category    1288 non-null object\n",
      "value       1288 non-null int32\n",
      "dtypes: int32(1), object(3)\n",
      "memory usage: 35.3+ KB\n"
     ]
    }
   ],
   "source": [
    "df.info()"
   ]
  },
  {
   "cell_type": "code",
   "execution_count": null,
   "metadata": {},
   "outputs": [],
   "source": []
  },
  {
   "cell_type": "code",
   "execution_count": 25,
   "metadata": {},
   "outputs": [
    {
     "data": {
      "text/plain": [
       " total_confirmed_cases    322\n",
       " death                    322\n",
       " cured                    322\n",
       " active_cases             322\n",
       "Name: category, dtype: int64"
      ]
     },
     "execution_count": 25,
     "metadata": {},
     "output_type": "execute_result"
    }
   ],
   "source": [
    "df['category'].value_counts()"
   ]
  },
  {
   "cell_type": "code",
   "execution_count": 26,
   "metadata": {},
   "outputs": [],
   "source": [
    "df['category'] = df['category'].apply(lambda x : str(x).strip())"
   ]
  },
  {
   "cell_type": "code",
   "execution_count": 27,
   "metadata": {},
   "outputs": [],
   "source": [
    "total_cases_df=df[df['category']=='total_confirmed_cases']"
   ]
  },
  {
   "cell_type": "code",
   "execution_count": 28,
   "metadata": {},
   "outputs": [
    {
     "data": {
      "text/html": [
       "<div>\n",
       "<style scoped>\n",
       "    .dataframe tbody tr th:only-of-type {\n",
       "        vertical-align: middle;\n",
       "    }\n",
       "\n",
       "    .dataframe tbody tr th {\n",
       "        vertical-align: top;\n",
       "    }\n",
       "\n",
       "    .dataframe thead th {\n",
       "        text-align: right;\n",
       "    }\n",
       "</style>\n",
       "<table border=\"1\" class=\"dataframe\">\n",
       "  <thead>\n",
       "    <tr style=\"text-align: right;\">\n",
       "      <th></th>\n",
       "      <th>rows</th>\n",
       "      <th>date</th>\n",
       "      <th>category</th>\n",
       "      <th>value</th>\n",
       "    </tr>\n",
       "  </thead>\n",
       "  <tbody>\n",
       "    <tr>\n",
       "      <td>3</td>\n",
       "      <td>'2020-01-30T13:33:00.00+05:30', 'total_confir...</td>\n",
       "      <td>2020-01-30T13:33:00.00+05:30</td>\n",
       "      <td>total_confirmed_cases</td>\n",
       "      <td>1</td>\n",
       "    </tr>\n",
       "    <tr>\n",
       "      <td>7</td>\n",
       "      <td>'2020-02-02T10:39:00.00+05:30', 'total_confir...</td>\n",
       "      <td>2020-02-02T10:39:00.00+05:30</td>\n",
       "      <td>total_confirmed_cases</td>\n",
       "      <td>2</td>\n",
       "    </tr>\n",
       "    <tr>\n",
       "      <td>11</td>\n",
       "      <td>'2020-02-03T12:13:00.00+05:30', 'total_confir...</td>\n",
       "      <td>2020-02-03T12:13:00.00+05:30</td>\n",
       "      <td>total_confirmed_cases</td>\n",
       "      <td>3</td>\n",
       "    </tr>\n",
       "    <tr>\n",
       "      <td>15</td>\n",
       "      <td>'2020-03-02T14:28:00.00+05:30', 'total_confir...</td>\n",
       "      <td>2020-03-02T14:28:00.00+05:30</td>\n",
       "      <td>total_confirmed_cases</td>\n",
       "      <td>5</td>\n",
       "    </tr>\n",
       "    <tr>\n",
       "      <td>19</td>\n",
       "      <td>'2020-03-03T19:36:00.00+05:30', 'total_confir...</td>\n",
       "      <td>2020-03-03T19:36:00.00+05:30</td>\n",
       "      <td>total_confirmed_cases</td>\n",
       "      <td>6</td>\n",
       "    </tr>\n",
       "    <tr>\n",
       "      <td>...</td>\n",
       "      <td>...</td>\n",
       "      <td>...</td>\n",
       "      <td>...</td>\n",
       "      <td>...</td>\n",
       "    </tr>\n",
       "    <tr>\n",
       "      <td>1271</td>\n",
       "      <td>'2020-11-16T08:00:00.00+05:30', 'total_confir...</td>\n",
       "      <td>2020-11-16T08:00:00.00+05:30</td>\n",
       "      <td>total_confirmed_cases</td>\n",
       "      <td>8845127</td>\n",
       "    </tr>\n",
       "    <tr>\n",
       "      <td>1275</td>\n",
       "      <td>'2020-11-17T08:00:00.00+05:30', 'total_confir...</td>\n",
       "      <td>2020-11-17T08:00:00.00+05:30</td>\n",
       "      <td>total_confirmed_cases</td>\n",
       "      <td>8874290</td>\n",
       "    </tr>\n",
       "    <tr>\n",
       "      <td>1279</td>\n",
       "      <td>'2020-11-18T08:00:00.00+05:30', 'total_confir...</td>\n",
       "      <td>2020-11-18T08:00:00.00+05:30</td>\n",
       "      <td>total_confirmed_cases</td>\n",
       "      <td>8912907</td>\n",
       "    </tr>\n",
       "    <tr>\n",
       "      <td>1283</td>\n",
       "      <td>'2020-11-19T08:00:00.00+05:30', 'total_confir...</td>\n",
       "      <td>2020-11-19T08:00:00.00+05:30</td>\n",
       "      <td>total_confirmed_cases</td>\n",
       "      <td>8958483</td>\n",
       "    </tr>\n",
       "    <tr>\n",
       "      <td>1287</td>\n",
       "      <td>'2020-11-20T08:00:00.00+05:30', 'total_confir...</td>\n",
       "      <td>2020-11-20T08:00:00.00+05:30</td>\n",
       "      <td>total_confirmed_cases</td>\n",
       "      <td>9004365</td>\n",
       "    </tr>\n",
       "  </tbody>\n",
       "</table>\n",
       "<p>322 rows × 4 columns</p>\n",
       "</div>"
      ],
      "text/plain": [
       "                                                   rows  \\\n",
       "3      '2020-01-30T13:33:00.00+05:30', 'total_confir...   \n",
       "7      '2020-02-02T10:39:00.00+05:30', 'total_confir...   \n",
       "11     '2020-02-03T12:13:00.00+05:30', 'total_confir...   \n",
       "15     '2020-03-02T14:28:00.00+05:30', 'total_confir...   \n",
       "19     '2020-03-03T19:36:00.00+05:30', 'total_confir...   \n",
       "...                                                 ...   \n",
       "1271   '2020-11-16T08:00:00.00+05:30', 'total_confir...   \n",
       "1275   '2020-11-17T08:00:00.00+05:30', 'total_confir...   \n",
       "1279   '2020-11-18T08:00:00.00+05:30', 'total_confir...   \n",
       "1283   '2020-11-19T08:00:00.00+05:30', 'total_confir...   \n",
       "1287   '2020-11-20T08:00:00.00+05:30', 'total_confir...   \n",
       "\n",
       "                               date               category    value  \n",
       "3      2020-01-30T13:33:00.00+05:30  total_confirmed_cases        1  \n",
       "7      2020-02-02T10:39:00.00+05:30  total_confirmed_cases        2  \n",
       "11     2020-02-03T12:13:00.00+05:30  total_confirmed_cases        3  \n",
       "15     2020-03-02T14:28:00.00+05:30  total_confirmed_cases        5  \n",
       "19     2020-03-03T19:36:00.00+05:30  total_confirmed_cases        6  \n",
       "...                             ...                    ...      ...  \n",
       "1271   2020-11-16T08:00:00.00+05:30  total_confirmed_cases  8845127  \n",
       "1275   2020-11-17T08:00:00.00+05:30  total_confirmed_cases  8874290  \n",
       "1279   2020-11-18T08:00:00.00+05:30  total_confirmed_cases  8912907  \n",
       "1283   2020-11-19T08:00:00.00+05:30  total_confirmed_cases  8958483  \n",
       "1287   2020-11-20T08:00:00.00+05:30  total_confirmed_cases  9004365  \n",
       "\n",
       "[322 rows x 4 columns]"
      ]
     },
     "execution_count": 28,
     "metadata": {},
     "output_type": "execute_result"
    }
   ],
   "source": [
    "total_cases_df"
   ]
  },
  {
   "cell_type": "code",
   "execution_count": null,
   "metadata": {},
   "outputs": [],
   "source": []
  },
  {
   "cell_type": "code",
   "execution_count": 29,
   "metadata": {},
   "outputs": [],
   "source": [
    "df =df[df['category'].str.match('active_cases')]"
   ]
  },
  {
   "cell_type": "code",
   "execution_count": null,
   "metadata": {},
   "outputs": [],
   "source": []
  },
  {
   "cell_type": "code",
   "execution_count": 30,
   "metadata": {},
   "outputs": [
    {
     "data": {
      "text/plain": [
       "322"
      ]
     },
     "execution_count": 30,
     "metadata": {},
     "output_type": "execute_result"
    }
   ],
   "source": [
    "len(df)"
   ]
  },
  {
   "cell_type": "code",
   "execution_count": 31,
   "metadata": {},
   "outputs": [],
   "source": [
    "#df.drop(['date'],axis=1,inplace=True)"
   ]
  },
  {
   "cell_type": "code",
   "execution_count": 32,
   "metadata": {},
   "outputs": [],
   "source": [
    "#df['date'] = pd.date_range(start='2020-01-30', end='2020-11-20')"
   ]
  },
  {
   "cell_type": "code",
   "execution_count": 33,
   "metadata": {},
   "outputs": [],
   "source": [
    "df.to_csv('export.csv')"
   ]
  },
  {
   "cell_type": "code",
   "execution_count": 34,
   "metadata": {},
   "outputs": [
    {
     "data": {
      "text/html": [
       "<div>\n",
       "<style scoped>\n",
       "    .dataframe tbody tr th:only-of-type {\n",
       "        vertical-align: middle;\n",
       "    }\n",
       "\n",
       "    .dataframe tbody tr th {\n",
       "        vertical-align: top;\n",
       "    }\n",
       "\n",
       "    .dataframe thead th {\n",
       "        text-align: right;\n",
       "    }\n",
       "</style>\n",
       "<table border=\"1\" class=\"dataframe\">\n",
       "  <thead>\n",
       "    <tr style=\"text-align: right;\">\n",
       "      <th></th>\n",
       "      <th>rows</th>\n",
       "      <th>date</th>\n",
       "      <th>category</th>\n",
       "      <th>value</th>\n",
       "    </tr>\n",
       "  </thead>\n",
       "  <tbody>\n",
       "    <tr>\n",
       "      <td>0</td>\n",
       "      <td>'2020-01-30T13:33:00.00+05:30', 'active_cases...</td>\n",
       "      <td>2020-01-30T13:33:00.00+05:30</td>\n",
       "      <td>active_cases</td>\n",
       "      <td>1</td>\n",
       "    </tr>\n",
       "    <tr>\n",
       "      <td>4</td>\n",
       "      <td>'2020-02-02T10:39:00.00+05:30', 'active_cases...</td>\n",
       "      <td>2020-02-02T10:39:00.00+05:30</td>\n",
       "      <td>active_cases</td>\n",
       "      <td>2</td>\n",
       "    </tr>\n",
       "    <tr>\n",
       "      <td>8</td>\n",
       "      <td>'2020-02-03T12:13:00.00+05:30', 'active_cases...</td>\n",
       "      <td>2020-02-03T12:13:00.00+05:30</td>\n",
       "      <td>active_cases</td>\n",
       "      <td>3</td>\n",
       "    </tr>\n",
       "    <tr>\n",
       "      <td>12</td>\n",
       "      <td>'2020-03-02T14:28:00.00+05:30', 'active_cases...</td>\n",
       "      <td>2020-03-02T14:28:00.00+05:30</td>\n",
       "      <td>active_cases</td>\n",
       "      <td>5</td>\n",
       "    </tr>\n",
       "    <tr>\n",
       "      <td>16</td>\n",
       "      <td>'2020-03-03T19:36:00.00+05:30', 'active_cases...</td>\n",
       "      <td>2020-03-03T19:36:00.00+05:30</td>\n",
       "      <td>active_cases</td>\n",
       "      <td>6</td>\n",
       "    </tr>\n",
       "  </tbody>\n",
       "</table>\n",
       "</div>"
      ],
      "text/plain": [
       "                                                 rows  \\\n",
       "0    '2020-01-30T13:33:00.00+05:30', 'active_cases...   \n",
       "4    '2020-02-02T10:39:00.00+05:30', 'active_cases...   \n",
       "8    '2020-02-03T12:13:00.00+05:30', 'active_cases...   \n",
       "12   '2020-03-02T14:28:00.00+05:30', 'active_cases...   \n",
       "16   '2020-03-03T19:36:00.00+05:30', 'active_cases...   \n",
       "\n",
       "                             date      category  value  \n",
       "0    2020-01-30T13:33:00.00+05:30  active_cases      1  \n",
       "4    2020-02-02T10:39:00.00+05:30  active_cases      2  \n",
       "8    2020-02-03T12:13:00.00+05:30  active_cases      3  \n",
       "12   2020-03-02T14:28:00.00+05:30  active_cases      5  \n",
       "16   2020-03-03T19:36:00.00+05:30  active_cases      6  "
      ]
     },
     "execution_count": 34,
     "metadata": {},
     "output_type": "execute_result"
    }
   ],
   "source": [
    "df.head()"
   ]
  },
  {
   "cell_type": "code",
   "execution_count": 35,
   "metadata": {},
   "outputs": [
    {
     "name": "stderr",
     "output_type": "stream",
     "text": [
      "C:\\Users\\SANDESH\\Anaconda3\\lib\\site-packages\\ipykernel_launcher.py:1: SettingWithCopyWarning: \n",
      "A value is trying to be set on a copy of a slice from a DataFrame.\n",
      "Try using .loc[row_indexer,col_indexer] = value instead\n",
      "\n",
      "See the caveats in the documentation: http://pandas.pydata.org/pandas-docs/stable/user_guide/indexing.html#returning-a-view-versus-a-copy\n",
      "  \"\"\"Entry point for launching an IPython kernel.\n"
     ]
    }
   ],
   "source": [
    "df['date']=df['date'].apply(lambda x : str(x)[:11])"
   ]
  },
  {
   "cell_type": "code",
   "execution_count": 36,
   "metadata": {},
   "outputs": [
    {
     "data": {
      "text/plain": [
       "0       01\n",
       "4       02\n",
       "8       02\n",
       "12      03\n",
       "16      03\n",
       "        ..\n",
       "1268    11\n",
       "1272    11\n",
       "1276    11\n",
       "1280    11\n",
       "1284    11\n",
       "Name: date, Length: 322, dtype: object"
      ]
     },
     "execution_count": 36,
     "metadata": {},
     "output_type": "execute_result"
    }
   ],
   "source": [
    "df['date'].apply(lambda x : str(x)[6:8])"
   ]
  },
  {
   "cell_type": "code",
   "execution_count": 37,
   "metadata": {},
   "outputs": [],
   "source": [
    "covidDict={}"
   ]
  },
  {
   "cell_type": "code",
   "execution_count": 38,
   "metadata": {},
   "outputs": [],
   "source": [
    "def getActivecasesFromEachMonth(row):\n",
    "    if row['date'][9:11] in ['30','31']:\n",
    "        month=row['date'][6:8]\n",
    "        covidDict[month]=row['value']\n",
    "        "
   ]
  },
  {
   "cell_type": "code",
   "execution_count": 39,
   "metadata": {},
   "outputs": [
    {
     "data": {
      "text/plain": [
       "0       None\n",
       "4       None\n",
       "8       None\n",
       "12      None\n",
       "16      None\n",
       "        ... \n",
       "1268    None\n",
       "1272    None\n",
       "1276    None\n",
       "1280    None\n",
       "1284    None\n",
       "Length: 322, dtype: object"
      ]
     },
     "execution_count": 39,
     "metadata": {},
     "output_type": "execute_result"
    }
   ],
   "source": [
    "df.apply(getActivecasesFromEachMonth,axis=1)"
   ]
  },
  {
   "cell_type": "code",
   "execution_count": 40,
   "metadata": {},
   "outputs": [
    {
     "data": {
      "text/plain": [
       "{'01': 1,\n",
       " '03': 1200,\n",
       " '04': 23882,\n",
       " '05': 84504,\n",
       " '06': 215125,\n",
       " '07': 545318,\n",
       " '08': 781975,\n",
       " '09': 940441,\n",
       " '10': 582649}"
      ]
     },
     "execution_count": 40,
     "metadata": {},
     "output_type": "execute_result"
    }
   ],
   "source": [
    "covidDict"
   ]
  },
  {
   "cell_type": "code",
   "execution_count": 41,
   "metadata": {},
   "outputs": [],
   "source": [
    "import matplotlib.pyplot as plt"
   ]
  },
  {
   "cell_type": "code",
   "execution_count": 42,
   "metadata": {},
   "outputs": [
    {
     "data": {
      "text/plain": [
       "dict_keys(['01', '03', '04', '05', '06', '07', '08', '09', '10'])"
      ]
     },
     "execution_count": 42,
     "metadata": {},
     "output_type": "execute_result"
    }
   ],
   "source": [
    "covidDict.keys()"
   ]
  },
  {
   "cell_type": "code",
   "execution_count": 43,
   "metadata": {},
   "outputs": [
    {
     "data": {
      "image/png": "[encoded data removed]",
      "text/plain": [
       "<Figure size 720x360 with 1 Axes>"
      ]
     },
     "metadata": {
      "needs_background": "light"
     },
     "output_type": "display_data"
    }
   ],
   "source": [
    "fig = plt.figure(figsize = (10, 5)) \n",
    "  \n",
    "# creating the bar plot \n",
    "plt.bar(list(covidDict.keys()), list(covidDict.values()), color ='maroon',  \n",
    "        width = 0.4) \n",
    "  \n",
    "plt.xlabel(\"Months\") \n",
    "plt.ylabel(\"No. of Active cases\") \n",
    "plt.title(\"Covid-19 India Data\") \n",
    "plt.show() "
   ]
  },
  {
   "cell_type": "code",
   "execution_count": 44,
   "metadata": {},
   "outputs": [],
   "source": [
    "totalCovidDict={}"
   ]
  },
  {
   "cell_type": "code",
   "execution_count": 45,
   "metadata": {},
   "outputs": [
    {
     "data": {
      "text/html": [
       "<div>\n",
       "<style scoped>\n",
       "    .dataframe tbody tr th:only-of-type {\n",
       "        vertical-align: middle;\n",
       "    }\n",
       "\n",
       "    .dataframe tbody tr th {\n",
       "        vertical-align: top;\n",
       "    }\n",
       "\n",
       "    .dataframe thead th {\n",
       "        text-align: right;\n",
       "    }\n",
       "</style>\n",
       "<table border=\"1\" class=\"dataframe\">\n",
       "  <thead>\n",
       "    <tr style=\"text-align: right;\">\n",
       "      <th></th>\n",
       "      <th>rows</th>\n",
       "      <th>date</th>\n",
       "      <th>category</th>\n",
       "      <th>value</th>\n",
       "    </tr>\n",
       "  </thead>\n",
       "  <tbody>\n",
       "    <tr>\n",
       "      <td>3</td>\n",
       "      <td>'2020-01-30T13:33:00.00+05:30', 'total_confir...</td>\n",
       "      <td>2020-01-30T13:33:00.00+05:30</td>\n",
       "      <td>total_confirmed_cases</td>\n",
       "      <td>1</td>\n",
       "    </tr>\n",
       "    <tr>\n",
       "      <td>7</td>\n",
       "      <td>'2020-02-02T10:39:00.00+05:30', 'total_confir...</td>\n",
       "      <td>2020-02-02T10:39:00.00+05:30</td>\n",
       "      <td>total_confirmed_cases</td>\n",
       "      <td>2</td>\n",
       "    </tr>\n",
       "    <tr>\n",
       "      <td>11</td>\n",
       "      <td>'2020-02-03T12:13:00.00+05:30', 'total_confir...</td>\n",
       "      <td>2020-02-03T12:13:00.00+05:30</td>\n",
       "      <td>total_confirmed_cases</td>\n",
       "      <td>3</td>\n",
       "    </tr>\n",
       "    <tr>\n",
       "      <td>15</td>\n",
       "      <td>'2020-03-02T14:28:00.00+05:30', 'total_confir...</td>\n",
       "      <td>2020-03-02T14:28:00.00+05:30</td>\n",
       "      <td>total_confirmed_cases</td>\n",
       "      <td>5</td>\n",
       "    </tr>\n",
       "    <tr>\n",
       "      <td>19</td>\n",
       "      <td>'2020-03-03T19:36:00.00+05:30', 'total_confir...</td>\n",
       "      <td>2020-03-03T19:36:00.00+05:30</td>\n",
       "      <td>total_confirmed_cases</td>\n",
       "      <td>6</td>\n",
       "    </tr>\n",
       "  </tbody>\n",
       "</table>\n",
       "</div>"
      ],
      "text/plain": [
       "                                                 rows  \\\n",
       "3    '2020-01-30T13:33:00.00+05:30', 'total_confir...   \n",
       "7    '2020-02-02T10:39:00.00+05:30', 'total_confir...   \n",
       "11   '2020-02-03T12:13:00.00+05:30', 'total_confir...   \n",
       "15   '2020-03-02T14:28:00.00+05:30', 'total_confir...   \n",
       "19   '2020-03-03T19:36:00.00+05:30', 'total_confir...   \n",
       "\n",
       "                             date               category  value  \n",
       "3    2020-01-30T13:33:00.00+05:30  total_confirmed_cases      1  \n",
       "7    2020-02-02T10:39:00.00+05:30  total_confirmed_cases      2  \n",
       "11   2020-02-03T12:13:00.00+05:30  total_confirmed_cases      3  \n",
       "15   2020-03-02T14:28:00.00+05:30  total_confirmed_cases      5  \n",
       "19   2020-03-03T19:36:00.00+05:30  total_confirmed_cases      6  "
      ]
     },
     "execution_count": 45,
     "metadata": {},
     "output_type": "execute_result"
    }
   ],
   "source": [
    "total_cases_df.head()"
   ]
  },
  {
   "cell_type": "code",
   "execution_count": null,
   "metadata": {},
   "outputs": [],
   "source": []
  },
  {
   "cell_type": "code",
   "execution_count": 46,
   "metadata": {},
   "outputs": [],
   "source": [
    "def getConfirmedcasesFromEachMonth(row):\n",
    "    if row['date'][9:11] in ['30','31']:\n",
    "        month=row['date'][6:8]\n",
    "        totalCovidDict[month]=row['value']"
   ]
  },
  {
   "cell_type": "code",
   "execution_count": 47,
   "metadata": {},
   "outputs": [
    {
     "data": {
      "text/plain": [
       "3       None\n",
       "7       None\n",
       "11      None\n",
       "15      None\n",
       "19      None\n",
       "        ... \n",
       "1271    None\n",
       "1275    None\n",
       "1279    None\n",
       "1283    None\n",
       "1287    None\n",
       "Length: 322, dtype: object"
      ]
     },
     "execution_count": 47,
     "metadata": {},
     "output_type": "execute_result"
    }
   ],
   "source": [
    "total_cases_df.apply(getConfirmedcasesFromEachMonth,axis=1)"
   ]
  },
  {
   "cell_type": "code",
   "execution_count": 48,
   "metadata": {},
   "outputs": [
    {
     "data": {
      "text/plain": [
       "{'01': 1,\n",
       " '03': 1359,\n",
       " '04': 33330,\n",
       " '05': 176652,\n",
       " '06': 566840,\n",
       " '07': 1638870,\n",
       " '08': 3621245,\n",
       " '09': 6225763,\n",
       " '10': 8137119}"
      ]
     },
     "execution_count": 48,
     "metadata": {},
     "output_type": "execute_result"
    }
   ],
   "source": [
    "totalCovidDict"
   ]
  },
  {
   "cell_type": "code",
   "execution_count": 49,
   "metadata": {},
   "outputs": [
    {
     "data": {
      "image/png": "[encoded data removed]",
      "text/plain": [
       "<Figure size 720x360 with 1 Axes>"
      ]
     },
     "metadata": {
      "needs_background": "light"
     },
     "output_type": "display_data"
    }
   ],
   "source": [
    "fig = plt.figure(figsize = (10, 5)) \n",
    "  \n",
    "# creating the bar plot \n",
    "plt.bar(list(totalCovidDict.keys()), list(totalCovidDict.values()), color ='maroon',  \n",
    "        width = 0.4) \n",
    "  \n",
    "plt.xlabel(\"Months\") \n",
    "plt.ylabel(\"No. of Total Confirmed cases\") \n",
    "plt.title(\"Covid-19 India Data\") \n",
    "plt.show() "
   ]
  },
  {
   "cell_type": "code",
   "execution_count": 50,
   "metadata": {},
   "outputs": [
    {
     "data": {
      "text/plain": [
       "DatetimeIndex(['2020-01-30', '2020-01-31', '2020-02-01', '2020-02-02',\n",
       "               '2020-02-03', '2020-02-04', '2020-02-05', '2020-02-06',\n",
       "               '2020-02-07', '2020-02-08',\n",
       "               ...\n",
       "               '2020-11-11', '2020-11-12', '2020-11-13', '2020-11-14',\n",
       "               '2020-11-15', '2020-11-16', '2020-11-17', '2020-11-18',\n",
       "               '2020-11-19', '2020-11-20'],\n",
       "              dtype='datetime64[ns]', length=296, freq='D')"
      ]
     },
     "execution_count": 50,
     "metadata": {},
     "output_type": "execute_result"
    }
   ],
   "source": [
    "pd.date_range(start='2020-01-30', end='2020-11-20')"
   ]
  },
  {
   "cell_type": "code",
   "execution_count": 51,
   "metadata": {},
   "outputs": [
    {
     "name": "stderr",
     "output_type": "stream",
     "text": [
      "C:\\Users\\SANDESH\\Anaconda3\\lib\\site-packages\\ipykernel_launcher.py:1: SettingWithCopyWarning: \n",
      "A value is trying to be set on a copy of a slice from a DataFrame.\n",
      "Try using .loc[row_indexer,col_indexer] = value instead\n",
      "\n",
      "See the caveats in the documentation: http://pandas.pydata.org/pandas-docs/stable/user_guide/indexing.html#returning-a-view-versus-a-copy\n",
      "  \"\"\"Entry point for launching an IPython kernel.\n"
     ]
    }
   ],
   "source": [
    "df['date'] = pd.to_datetime(df['date'])"
   ]
  },
  {
   "cell_type": "code",
   "execution_count": 52,
   "metadata": {},
   "outputs": [
    {
     "name": "stdout",
     "output_type": "stream",
     "text": [
      "<class 'pandas.core.frame.DataFrame'>\n",
      "Int64Index: 322 entries, 0 to 1284\n",
      "Data columns (total 4 columns):\n",
      "rows        322 non-null object\n",
      "date        322 non-null datetime64[ns]\n",
      "category    322 non-null object\n",
      "value       322 non-null int32\n",
      "dtypes: datetime64[ns](1), int32(1), object(2)\n",
      "memory usage: 11.3+ KB\n"
     ]
    }
   ],
   "source": [
    "df.info()"
   ]
  },
  {
   "cell_type": "code",
   "execution_count": null,
   "metadata": {},
   "outputs": [],
   "source": []
  },
  {
   "cell_type": "code",
   "execution_count": 53,
   "metadata": {},
   "outputs": [],
   "source": [
    "#df['date'] = df['date'].dt.date"
   ]
  },
  {
   "cell_type": "code",
   "execution_count": 54,
   "metadata": {},
   "outputs": [
    {
     "data": {
      "text/html": [
       "<div>\n",
       "<style scoped>\n",
       "    .dataframe tbody tr th:only-of-type {\n",
       "        vertical-align: middle;\n",
       "    }\n",
       "\n",
       "    .dataframe tbody tr th {\n",
       "        vertical-align: top;\n",
       "    }\n",
       "\n",
       "    .dataframe thead th {\n",
       "        text-align: right;\n",
       "    }\n",
       "</style>\n",
       "<table border=\"1\" class=\"dataframe\">\n",
       "  <thead>\n",
       "    <tr style=\"text-align: right;\">\n",
       "      <th></th>\n",
       "      <th>rows</th>\n",
       "      <th>date</th>\n",
       "      <th>category</th>\n",
       "      <th>value</th>\n",
       "    </tr>\n",
       "  </thead>\n",
       "  <tbody>\n",
       "    <tr>\n",
       "      <td>0</td>\n",
       "      <td>'2020-01-30T13:33:00.00+05:30', 'active_cases...</td>\n",
       "      <td>2020-01-30</td>\n",
       "      <td>active_cases</td>\n",
       "      <td>1</td>\n",
       "    </tr>\n",
       "    <tr>\n",
       "      <td>4</td>\n",
       "      <td>'2020-02-02T10:39:00.00+05:30', 'active_cases...</td>\n",
       "      <td>2020-02-02</td>\n",
       "      <td>active_cases</td>\n",
       "      <td>2</td>\n",
       "    </tr>\n",
       "    <tr>\n",
       "      <td>8</td>\n",
       "      <td>'2020-02-03T12:13:00.00+05:30', 'active_cases...</td>\n",
       "      <td>2020-02-03</td>\n",
       "      <td>active_cases</td>\n",
       "      <td>3</td>\n",
       "    </tr>\n",
       "    <tr>\n",
       "      <td>12</td>\n",
       "      <td>'2020-03-02T14:28:00.00+05:30', 'active_cases...</td>\n",
       "      <td>2020-03-02</td>\n",
       "      <td>active_cases</td>\n",
       "      <td>5</td>\n",
       "    </tr>\n",
       "    <tr>\n",
       "      <td>16</td>\n",
       "      <td>'2020-03-03T19:36:00.00+05:30', 'active_cases...</td>\n",
       "      <td>2020-03-03</td>\n",
       "      <td>active_cases</td>\n",
       "      <td>6</td>\n",
       "    </tr>\n",
       "  </tbody>\n",
       "</table>\n",
       "</div>"
      ],
      "text/plain": [
       "                                                 rows       date  \\\n",
       "0    '2020-01-30T13:33:00.00+05:30', 'active_cases... 2020-01-30   \n",
       "4    '2020-02-02T10:39:00.00+05:30', 'active_cases... 2020-02-02   \n",
       "8    '2020-02-03T12:13:00.00+05:30', 'active_cases... 2020-02-03   \n",
       "12   '2020-03-02T14:28:00.00+05:30', 'active_cases... 2020-03-02   \n",
       "16   '2020-03-03T19:36:00.00+05:30', 'active_cases... 2020-03-03   \n",
       "\n",
       "        category  value  \n",
       "0   active_cases      1  \n",
       "4   active_cases      2  \n",
       "8   active_cases      3  \n",
       "12  active_cases      5  \n",
       "16  active_cases      6  "
      ]
     },
     "execution_count": 54,
     "metadata": {},
     "output_type": "execute_result"
    }
   ],
   "source": [
    "df.head()"
   ]
  },
  {
   "cell_type": "code",
   "execution_count": 55,
   "metadata": {},
   "outputs": [
    {
     "name": "stderr",
     "output_type": "stream",
     "text": [
      "C:\\Users\\SANDESH\\Anaconda3\\lib\\site-packages\\pandas\\core\\frame.py:4102: SettingWithCopyWarning: \n",
      "A value is trying to be set on a copy of a slice from a DataFrame\n",
      "\n",
      "See the caveats in the documentation: http://pandas.pydata.org/pandas-docs/stable/user_guide/indexing.html#returning-a-view-versus-a-copy\n",
      "  errors=errors,\n"
     ]
    }
   ],
   "source": [
    "df.drop(['category'], axis=1, inplace=True)"
   ]
  },
  {
   "cell_type": "code",
   "execution_count": 56,
   "metadata": {},
   "outputs": [
    {
     "data": {
      "text/html": [
       "<div>\n",
       "<style scoped>\n",
       "    .dataframe tbody tr th:only-of-type {\n",
       "        vertical-align: middle;\n",
       "    }\n",
       "\n",
       "    .dataframe tbody tr th {\n",
       "        vertical-align: top;\n",
       "    }\n",
       "\n",
       "    .dataframe thead th {\n",
       "        text-align: right;\n",
       "    }\n",
       "</style>\n",
       "<table border=\"1\" class=\"dataframe\">\n",
       "  <thead>\n",
       "    <tr style=\"text-align: right;\">\n",
       "      <th></th>\n",
       "      <th>rows</th>\n",
       "      <th>date</th>\n",
       "      <th>value</th>\n",
       "    </tr>\n",
       "  </thead>\n",
       "  <tbody>\n",
       "    <tr>\n",
       "      <td>0</td>\n",
       "      <td>'2020-01-30T13:33:00.00+05:30', 'active_cases...</td>\n",
       "      <td>2020-01-30</td>\n",
       "      <td>1</td>\n",
       "    </tr>\n",
       "    <tr>\n",
       "      <td>4</td>\n",
       "      <td>'2020-02-02T10:39:00.00+05:30', 'active_cases...</td>\n",
       "      <td>2020-02-02</td>\n",
       "      <td>2</td>\n",
       "    </tr>\n",
       "    <tr>\n",
       "      <td>8</td>\n",
       "      <td>'2020-02-03T12:13:00.00+05:30', 'active_cases...</td>\n",
       "      <td>2020-02-03</td>\n",
       "      <td>3</td>\n",
       "    </tr>\n",
       "    <tr>\n",
       "      <td>12</td>\n",
       "      <td>'2020-03-02T14:28:00.00+05:30', 'active_cases...</td>\n",
       "      <td>2020-03-02</td>\n",
       "      <td>5</td>\n",
       "    </tr>\n",
       "    <tr>\n",
       "      <td>16</td>\n",
       "      <td>'2020-03-03T19:36:00.00+05:30', 'active_cases...</td>\n",
       "      <td>2020-03-03</td>\n",
       "      <td>6</td>\n",
       "    </tr>\n",
       "    <tr>\n",
       "      <td>...</td>\n",
       "      <td>...</td>\n",
       "      <td>...</td>\n",
       "      <td>...</td>\n",
       "    </tr>\n",
       "    <tr>\n",
       "      <td>1268</td>\n",
       "      <td>'2020-11-16T08:00:00.00+05:30', 'active_cases...</td>\n",
       "      <td>2020-11-16</td>\n",
       "      <td>465478</td>\n",
       "    </tr>\n",
       "    <tr>\n",
       "      <td>1272</td>\n",
       "      <td>'2020-11-17T08:00:00.00+05:30', 'active_cases...</td>\n",
       "      <td>2020-11-17</td>\n",
       "      <td>453401</td>\n",
       "    </tr>\n",
       "    <tr>\n",
       "      <td>1276</td>\n",
       "      <td>'2020-11-18T08:00:00.00+05:30', 'active_cases...</td>\n",
       "      <td>2020-11-18</td>\n",
       "      <td>446805</td>\n",
       "    </tr>\n",
       "    <tr>\n",
       "      <td>1280</td>\n",
       "      <td>'2020-11-19T08:00:00.00+05:30', 'active_cases...</td>\n",
       "      <td>2020-11-19</td>\n",
       "      <td>443303</td>\n",
       "    </tr>\n",
       "    <tr>\n",
       "      <td>1284</td>\n",
       "      <td>'2020-11-20T08:00:00.00+05:30', 'active_cases...</td>\n",
       "      <td>2020-11-20</td>\n",
       "      <td>443794</td>\n",
       "    </tr>\n",
       "  </tbody>\n",
       "</table>\n",
       "<p>322 rows × 3 columns</p>\n",
       "</div>"
      ],
      "text/plain": [
       "                                                   rows       date   value\n",
       "0      '2020-01-30T13:33:00.00+05:30', 'active_cases... 2020-01-30       1\n",
       "4      '2020-02-02T10:39:00.00+05:30', 'active_cases... 2020-02-02       2\n",
       "8      '2020-02-03T12:13:00.00+05:30', 'active_cases... 2020-02-03       3\n",
       "12     '2020-03-02T14:28:00.00+05:30', 'active_cases... 2020-03-02       5\n",
       "16     '2020-03-03T19:36:00.00+05:30', 'active_cases... 2020-03-03       6\n",
       "...                                                 ...        ...     ...\n",
       "1268   '2020-11-16T08:00:00.00+05:30', 'active_cases... 2020-11-16  465478\n",
       "1272   '2020-11-17T08:00:00.00+05:30', 'active_cases... 2020-11-17  453401\n",
       "1276   '2020-11-18T08:00:00.00+05:30', 'active_cases... 2020-11-18  446805\n",
       "1280   '2020-11-19T08:00:00.00+05:30', 'active_cases... 2020-11-19  443303\n",
       "1284   '2020-11-20T08:00:00.00+05:30', 'active_cases... 2020-11-20  443794\n",
       "\n",
       "[322 rows x 3 columns]"
      ]
     },
     "execution_count": 56,
     "metadata": {},
     "output_type": "execute_result"
    }
   ],
   "source": [
    "df"
   ]
  },
  {
   "cell_type": "code",
   "execution_count": 57,
   "metadata": {},
   "outputs": [],
   "source": [
    "import matplotlib.pyplot as plt"
   ]
  },
  {
   "cell_type": "code",
   "execution_count": 77,
   "metadata": {},
   "outputs": [
    {
     "name": "stdout",
     "output_type": "stream",
     "text": [
      "<class 'pandas.core.frame.DataFrame'>\n",
      "Int64Index: 322 entries, 0 to 1284\n",
      "Data columns (total 2 columns):\n",
      "date     322 non-null datetime64[ns]\n",
      "value    322 non-null int32\n",
      "dtypes: datetime64[ns](1), int32(1)\n",
      "memory usage: 6.3 KB\n"
     ]
    }
   ],
   "source": [
    "df.info()"
   ]
  },
  {
   "cell_type": "code",
   "execution_count": 71,
   "metadata": {},
   "outputs": [
    {
     "data": {
      "image/png": "[encoded data removed]",
      "text/plain": [
       "<Figure size 720x360 with 1 Axes>"
      ]
     },
     "metadata": {
      "needs_background": "light"
     },
     "output_type": "display_data"
    }
   ],
   "source": [
    "df['value'].plot(figsize=(10,5))\n",
    "plt.show()\n"
   ]
  },
  {
   "cell_type": "code",
   "execution_count": null,
   "metadata": {},
   "outputs": [],
   "source": []
  },
  {
   "cell_type": "code",
   "execution_count": 74,
   "metadata": {},
   "outputs": [],
   "source": [
    "df.drop(['rows'],axis=1,inplace=True)"
   ]
  },
  {
   "cell_type": "code",
   "execution_count": 75,
   "metadata": {},
   "outputs": [
    {
     "data": {
      "text/html": [
       "<div>\n",
       "<style scoped>\n",
       "    .dataframe tbody tr th:only-of-type {\n",
       "        vertical-align: middle;\n",
       "    }\n",
       "\n",
       "    .dataframe tbody tr th {\n",
       "        vertical-align: top;\n",
       "    }\n",
       "\n",
       "    .dataframe thead th {\n",
       "        text-align: right;\n",
       "    }\n",
       "</style>\n",
       "<table border=\"1\" class=\"dataframe\">\n",
       "  <thead>\n",
       "    <tr style=\"text-align: right;\">\n",
       "      <th></th>\n",
       "      <th>date</th>\n",
       "      <th>value</th>\n",
       "    </tr>\n",
       "  </thead>\n",
       "  <tbody>\n",
       "    <tr>\n",
       "      <td>0</td>\n",
       "      <td>2020-01-30</td>\n",
       "      <td>1</td>\n",
       "    </tr>\n",
       "    <tr>\n",
       "      <td>4</td>\n",
       "      <td>2020-02-02</td>\n",
       "      <td>2</td>\n",
       "    </tr>\n",
       "    <tr>\n",
       "      <td>8</td>\n",
       "      <td>2020-02-03</td>\n",
       "      <td>3</td>\n",
       "    </tr>\n",
       "    <tr>\n",
       "      <td>12</td>\n",
       "      <td>2020-03-02</td>\n",
       "      <td>5</td>\n",
       "    </tr>\n",
       "    <tr>\n",
       "      <td>16</td>\n",
       "      <td>2020-03-03</td>\n",
       "      <td>6</td>\n",
       "    </tr>\n",
       "  </tbody>\n",
       "</table>\n",
       "</div>"
      ],
      "text/plain": [
       "         date  value\n",
       "0  2020-01-30      1\n",
       "4  2020-02-02      2\n",
       "8  2020-02-03      3\n",
       "12 2020-03-02      5\n",
       "16 2020-03-03      6"
      ]
     },
     "execution_count": 75,
     "metadata": {},
     "output_type": "execute_result"
    }
   ],
   "source": [
    "df.head()"
   ]
  },
  {
   "cell_type": "code",
   "execution_count": null,
   "metadata": {},
   "outputs": [],
   "source": []
  },
  {
   "cell_type": "code",
   "execution_count": 59,
   "metadata": {},
   "outputs": [
    {
     "name": "stdout",
     "output_type": "stream",
     "text": [
      "<class 'pandas.core.frame.DataFrame'>\n",
      "Int64Index: 322 entries, 0 to 1284\n",
      "Data columns (total 3 columns):\n",
      "rows     322 non-null object\n",
      "date     322 non-null datetime64[ns]\n",
      "value    322 non-null int32\n",
      "dtypes: datetime64[ns](1), int32(1), object(1)\n",
      "memory usage: 8.8+ KB\n"
     ]
    }
   ],
   "source": [
    "df.info()"
   ]
  },
  {
   "cell_type": "code",
   "execution_count": 60,
   "metadata": {},
   "outputs": [
    {
     "data": {
      "text/html": [
       "<div>\n",
       "<style scoped>\n",
       "    .dataframe tbody tr th:only-of-type {\n",
       "        vertical-align: middle;\n",
       "    }\n",
       "\n",
       "    .dataframe tbody tr th {\n",
       "        vertical-align: top;\n",
       "    }\n",
       "\n",
       "    .dataframe thead th {\n",
       "        text-align: right;\n",
       "    }\n",
       "</style>\n",
       "<table border=\"1\" class=\"dataframe\">\n",
       "  <thead>\n",
       "    <tr style=\"text-align: right;\">\n",
       "      <th></th>\n",
       "      <th>rows</th>\n",
       "      <th>date</th>\n",
       "      <th>value</th>\n",
       "    </tr>\n",
       "  </thead>\n",
       "  <tbody>\n",
       "    <tr>\n",
       "      <td>0</td>\n",
       "      <td>'2020-01-30T13:33:00.00+05:30', 'active_cases...</td>\n",
       "      <td>2020-01-30</td>\n",
       "      <td>1</td>\n",
       "    </tr>\n",
       "    <tr>\n",
       "      <td>4</td>\n",
       "      <td>'2020-02-02T10:39:00.00+05:30', 'active_cases...</td>\n",
       "      <td>2020-02-02</td>\n",
       "      <td>2</td>\n",
       "    </tr>\n",
       "    <tr>\n",
       "      <td>8</td>\n",
       "      <td>'2020-02-03T12:13:00.00+05:30', 'active_cases...</td>\n",
       "      <td>2020-02-03</td>\n",
       "      <td>3</td>\n",
       "    </tr>\n",
       "    <tr>\n",
       "      <td>12</td>\n",
       "      <td>'2020-03-02T14:28:00.00+05:30', 'active_cases...</td>\n",
       "      <td>2020-03-02</td>\n",
       "      <td>5</td>\n",
       "    </tr>\n",
       "    <tr>\n",
       "      <td>16</td>\n",
       "      <td>'2020-03-03T19:36:00.00+05:30', 'active_cases...</td>\n",
       "      <td>2020-03-03</td>\n",
       "      <td>6</td>\n",
       "    </tr>\n",
       "    <tr>\n",
       "      <td>...</td>\n",
       "      <td>...</td>\n",
       "      <td>...</td>\n",
       "      <td>...</td>\n",
       "    </tr>\n",
       "    <tr>\n",
       "      <td>1268</td>\n",
       "      <td>'2020-11-16T08:00:00.00+05:30', 'active_cases...</td>\n",
       "      <td>2020-11-16</td>\n",
       "      <td>465478</td>\n",
       "    </tr>\n",
       "    <tr>\n",
       "      <td>1272</td>\n",
       "      <td>'2020-11-17T08:00:00.00+05:30', 'active_cases...</td>\n",
       "      <td>2020-11-17</td>\n",
       "      <td>453401</td>\n",
       "    </tr>\n",
       "    <tr>\n",
       "      <td>1276</td>\n",
       "      <td>'2020-11-18T08:00:00.00+05:30', 'active_cases...</td>\n",
       "      <td>2020-11-18</td>\n",
       "      <td>446805</td>\n",
       "    </tr>\n",
       "    <tr>\n",
       "      <td>1280</td>\n",
       "      <td>'2020-11-19T08:00:00.00+05:30', 'active_cases...</td>\n",
       "      <td>2020-11-19</td>\n",
       "      <td>443303</td>\n",
       "    </tr>\n",
       "    <tr>\n",
       "      <td>1284</td>\n",
       "      <td>'2020-11-20T08:00:00.00+05:30', 'active_cases...</td>\n",
       "      <td>2020-11-20</td>\n",
       "      <td>443794</td>\n",
       "    </tr>\n",
       "  </tbody>\n",
       "</table>\n",
       "<p>322 rows × 3 columns</p>\n",
       "</div>"
      ],
      "text/plain": [
       "                                                   rows       date   value\n",
       "0      '2020-01-30T13:33:00.00+05:30', 'active_cases... 2020-01-30       1\n",
       "4      '2020-02-02T10:39:00.00+05:30', 'active_cases... 2020-02-02       2\n",
       "8      '2020-02-03T12:13:00.00+05:30', 'active_cases... 2020-02-03       3\n",
       "12     '2020-03-02T14:28:00.00+05:30', 'active_cases... 2020-03-02       5\n",
       "16     '2020-03-03T19:36:00.00+05:30', 'active_cases... 2020-03-03       6\n",
       "...                                                 ...        ...     ...\n",
       "1268   '2020-11-16T08:00:00.00+05:30', 'active_cases... 2020-11-16  465478\n",
       "1272   '2020-11-17T08:00:00.00+05:30', 'active_cases... 2020-11-17  453401\n",
       "1276   '2020-11-18T08:00:00.00+05:30', 'active_cases... 2020-11-18  446805\n",
       "1280   '2020-11-19T08:00:00.00+05:30', 'active_cases... 2020-11-19  443303\n",
       "1284   '2020-11-20T08:00:00.00+05:30', 'active_cases... 2020-11-20  443794\n",
       "\n",
       "[322 rows x 3 columns]"
      ]
     },
     "execution_count": 60,
     "metadata": {},
     "output_type": "execute_result"
    }
   ],
   "source": [
    "df"
   ]
  },
  {
   "cell_type": "code",
   "execution_count": 61,
   "metadata": {},
   "outputs": [],
   "source": [
    "from statsmodels.tsa.stattools import adfuller"
   ]
  },
  {
   "cell_type": "code",
   "execution_count": 62,
   "metadata": {},
   "outputs": [
    {
     "data": {
      "text/plain": [
       "<matplotlib.axes._subplots.AxesSubplot at 0x1ce13720988>"
      ]
     },
     "execution_count": 62,
     "metadata": {},
     "output_type": "execute_result"
    },
    {
     "data": {
      "image/png": "[encoded data removed]",
      "text/plain": [
       "<Figure size 432x288 with 1 Axes>"
      ]
     },
     "metadata": {
      "needs_background": "light"
     },
     "output_type": "display_data"
    }
   ],
   "source": [
    "autocorrelation_plot(df['value'])"
   ]
  },
  {
   "cell_type": "code",
   "execution_count": 63,
   "metadata": {},
   "outputs": [],
   "source": [
    "from pandas.plotting import lag_plot"
   ]
  },
  {
   "cell_type": "code",
   "execution_count": 64,
   "metadata": {},
   "outputs": [
    {
     "data": {
      "text/plain": [
       "<matplotlib.axes._subplots.AxesSubplot at 0x1ce135dd208>"
      ]
     },
     "execution_count": 64,
     "metadata": {},
     "output_type": "execute_result"
    },
    {
     "data": {
      "image/png": "[encoded data removed]",
      "text/plain": [
       "<Figure size 432x288 with 1 Axes>"
      ]
     },
     "metadata": {
      "needs_background": "light"
     },
     "output_type": "display_data"
    }
   ],
   "source": [
    "lag_plot(df['value'])"
   ]
  },
  {
   "cell_type": "code",
   "execution_count": 65,
   "metadata": {},
   "outputs": [
    {
     "data": {
      "image/png": "[encoded data removed]",
      "text/plain": [
       "<Figure size 432x288 with 1 Axes>"
      ]
     },
     "execution_count": 65,
     "metadata": {},
     "output_type": "execute_result"
    },
    {
     "data": {
      "image/png": "[encoded data removed]",
      "text/plain": [
       "<Figure size 432x288 with 1 Axes>"
      ]
     },
     "metadata": {
      "needs_background": "light"
     },
     "output_type": "display_data"
    }
   ],
   "source": [
    "plot_acf(df['value'], lags=30)"
   ]
  },
  {
   "cell_type": "code",
   "execution_count": 66,
   "metadata": {},
   "outputs": [],
   "source": [
    "def adTest(dataframe):\n",
    "    dfTest = adfuller(dataframe,autolag='AIC')\n",
    "    print('1:ADF' ,dfTest[0])\n",
    "    print('2:P value:' ,dfTest[1])\n",
    "    print('3: No Of lags' , dfTest[2])\n",
    "    print('4: No Of Observation used', dfTest[3])\n",
    "    print('5: Critical Values')\n",
    "    for key,val in dfTest[4].items():\n",
    "        print(key , \" \" , val)\n",
    "        "
   ]
  },
  {
   "cell_type": "code",
   "execution_count": 67,
   "metadata": {
    "scrolled": true
   },
   "outputs": [
    {
     "name": "stdout",
     "output_type": "stream",
     "text": [
      "1:ADF -1.47869218607363\n",
      "2:P value: 0.5440244485945941\n",
      "3: No Of lags 17\n",
      "4: No Of Observation used 304\n",
      "5: Critical Values\n",
      "1%   -3.452045317832011\n",
      "5%   -2.871094805558846\n",
      "10%   -2.571860921485457\n"
     ]
    }
   ],
   "source": [
    "adTest(df['value'])"
   ]
  },
  {
   "cell_type": "code",
   "execution_count": 68,
   "metadata": {},
   "outputs": [],
   "source": [
    "from numpy import log"
   ]
  },
  {
   "cell_type": "code",
   "execution_count": 69,
   "metadata": {},
   "outputs": [],
   "source": [
    "X = log(df['value'])"
   ]
  },
  {
   "cell_type": "code",
   "execution_count": 70,
   "metadata": {},
   "outputs": [
    {
     "name": "stdout",
     "output_type": "stream",
     "text": [
      "1:ADF -3.546562866860624\n",
      "2:P value: 0.006868755654290856\n",
      "3: No Of lags 16\n",
      "4: No Of Observation used 305\n",
      "5: Critical Values\n",
      "1%   -3.451973573620699\n",
      "5%   -2.8710633193086648\n",
      "10%   -2.5718441306100512\n"
     ]
    }
   ],
   "source": [
    "adTest(X)"
   ]
  },
  {
   "cell_type": "code",
   "execution_count": 78,
   "metadata": {},
   "outputs": [],
   "source": [
    "from pmdarima import auto_arima"
   ]
  },
  {
   "cell_type": "code",
   "execution_count": 79,
   "metadata": {},
   "outputs": [],
   "source": [
    "import warnings"
   ]
  },
  {
   "cell_type": "code",
   "execution_count": 80,
   "metadata": {},
   "outputs": [],
   "source": [
    "warnings.filterwarnings('ignore')"
   ]
  },
  {
   "cell_type": "code",
   "execution_count": 81,
   "metadata": {
    "scrolled": true
   },
   "outputs": [
    {
     "name": "stdout",
     "output_type": "stream",
     "text": [
      "Performing stepwise search to minimize aic\n",
      " ARIMA(2,2,2)(0,0,0)[0]             : AIC=6264.457, Time=0.91 sec\n",
      " ARIMA(0,2,0)(0,0,0)[0]             : AIC=6361.012, Time=0.05 sec\n",
      " ARIMA(1,2,0)(0,0,0)[0]             : AIC=6317.622, Time=0.04 sec\n",
      " ARIMA(0,2,1)(0,0,0)[0]             : AIC=6272.383, Time=0.05 sec\n",
      " ARIMA(1,2,2)(0,0,0)[0]             : AIC=6262.676, Time=0.34 sec\n",
      " ARIMA(0,2,2)(0,0,0)[0]             : AIC=6270.126, Time=0.08 sec\n",
      " ARIMA(1,2,1)(0,0,0)[0]             : AIC=6270.923, Time=0.08 sec\n",
      " ARIMA(1,2,3)(0,0,0)[0]             : AIC=6267.164, Time=0.29 sec\n",
      " ARIMA(0,2,3)(0,0,0)[0]             : AIC=6278.002, Time=0.16 sec\n",
      " ARIMA(2,2,1)(0,0,0)[0]             : AIC=6271.098, Time=0.14 sec\n",
      " ARIMA(2,2,3)(0,0,0)[0]             : AIC=6236.088, Time=0.70 sec\n",
      " ARIMA(3,2,3)(0,0,0)[0]             : AIC=6236.016, Time=0.68 sec\n",
      " ARIMA(3,2,2)(0,0,0)[0]             : AIC=6258.936, Time=1.01 sec\n",
      " ARIMA(4,2,3)(0,0,0)[0]             : AIC=6233.233, Time=0.83 sec\n",
      " ARIMA(4,2,2)(0,0,0)[0]             : AIC=6268.143, Time=0.62 sec\n",
      " ARIMA(5,2,3)(0,0,0)[0]             : AIC=6245.351, Time=0.97 sec\n",
      " ARIMA(4,2,4)(0,0,0)[0]             : AIC=6238.932, Time=1.41 sec\n",
      " ARIMA(3,2,4)(0,0,0)[0]             : AIC=6240.462, Time=1.68 sec\n",
      " ARIMA(5,2,2)(0,0,0)[0]             : AIC=6266.604, Time=0.83 sec\n",
      " ARIMA(5,2,4)(0,0,0)[0]             : AIC=6222.270, Time=1.84 sec\n",
      " ARIMA(5,2,5)(0,0,0)[0]             : AIC=6210.097, Time=1.79 sec\n",
      " ARIMA(4,2,5)(0,0,0)[0]             : AIC=6231.122, Time=1.70 sec\n",
      " ARIMA(5,2,5)(0,0,0)[0] intercept   : AIC=6211.999, Time=2.01 sec\n",
      "\n",
      "Best model:  ARIMA(5,2,5)(0,0,0)[0]          \n",
      "Total fit time: 18.384 seconds\n"
     ]
    }
   ],
   "source": [
    "stepwise_fit = auto_arima(df['value'], trace=True,suppress_warnings=True)"
   ]
  },
  {
   "cell_type": "code",
   "execution_count": 82,
   "metadata": {},
   "outputs": [
    {
     "data": {
      "text/html": [
       "<table class=\"simpletable\">\n",
       "<caption>SARIMAX Results</caption>\n",
       "<tr>\n",
       "  <th>Dep. Variable:</th>           <td>y</td>        <th>  No. Observations:  </th>    <td>322</td>   \n",
       "</tr>\n",
       "<tr>\n",
       "  <th>Model:</th>           <td>SARIMAX(5, 2, 5)</td> <th>  Log Likelihood     </th> <td>-3094.049</td>\n",
       "</tr>\n",
       "<tr>\n",
       "  <th>Date:</th>            <td>Mon, 23 Nov 2020</td> <th>  AIC                </th> <td>6210.097</td> \n",
       "</tr>\n",
       "<tr>\n",
       "  <th>Time:</th>                <td>18:58:54</td>     <th>  BIC                </th> <td>6251.549</td> \n",
       "</tr>\n",
       "<tr>\n",
       "  <th>Sample:</th>                  <td>0</td>        <th>  HQIC               </th> <td>6226.649</td> \n",
       "</tr>\n",
       "<tr>\n",
       "  <th></th>                      <td> - 322</td>      <th>                     </th>     <td> </td>    \n",
       "</tr>\n",
       "<tr>\n",
       "  <th>Covariance Type:</th>        <td>opg</td>       <th>                     </th>     <td> </td>    \n",
       "</tr>\n",
       "</table>\n",
       "<table class=\"simpletable\">\n",
       "<tr>\n",
       "     <td></td>       <th>coef</th>     <th>std err</th>      <th>z</th>      <th>P>|z|</th>  <th>[0.025</th>    <th>0.975]</th>  \n",
       "</tr>\n",
       "<tr>\n",
       "  <th>ar.L1</th>  <td>   -1.7671</td> <td>    0.192</td> <td>   -9.224</td> <td> 0.000</td> <td>   -2.143</td> <td>   -1.392</td>\n",
       "</tr>\n",
       "<tr>\n",
       "  <th>ar.L2</th>  <td>   -1.7353</td> <td>    0.384</td> <td>   -4.520</td> <td> 0.000</td> <td>   -2.488</td> <td>   -0.983</td>\n",
       "</tr>\n",
       "<tr>\n",
       "  <th>ar.L3</th>  <td>   -0.9268</td> <td>    0.457</td> <td>   -2.027</td> <td> 0.043</td> <td>   -1.823</td> <td>   -0.031</td>\n",
       "</tr>\n",
       "<tr>\n",
       "  <th>ar.L4</th>  <td>    0.0225</td> <td>    0.350</td> <td>    0.064</td> <td> 0.949</td> <td>   -0.663</td> <td>    0.708</td>\n",
       "</tr>\n",
       "<tr>\n",
       "  <th>ar.L5</th>  <td>    0.3815</td> <td>    0.146</td> <td>    2.610</td> <td> 0.009</td> <td>    0.095</td> <td>    0.668</td>\n",
       "</tr>\n",
       "<tr>\n",
       "  <th>ma.L1</th>  <td>    1.3567</td> <td>    0.181</td> <td>    7.508</td> <td> 0.000</td> <td>    1.003</td> <td>    1.711</td>\n",
       "</tr>\n",
       "<tr>\n",
       "  <th>ma.L2</th>  <td>    0.8572</td> <td>    0.273</td> <td>    3.140</td> <td> 0.002</td> <td>    0.322</td> <td>    1.392</td>\n",
       "</tr>\n",
       "<tr>\n",
       "  <th>ma.L3</th>  <td>   -0.1240</td> <td>    0.261</td> <td>   -0.475</td> <td> 0.634</td> <td>   -0.635</td> <td>    0.387</td>\n",
       "</tr>\n",
       "<tr>\n",
       "  <th>ma.L4</th>  <td>   -0.7194</td> <td>    0.155</td> <td>   -4.637</td> <td> 0.000</td> <td>   -1.024</td> <td>   -0.415</td>\n",
       "</tr>\n",
       "<tr>\n",
       "  <th>ma.L5</th>  <td>   -0.4749</td> <td>    0.082</td> <td>   -5.825</td> <td> 0.000</td> <td>   -0.635</td> <td>   -0.315</td>\n",
       "</tr>\n",
       "<tr>\n",
       "  <th>sigma2</th> <td> 1.973e+07</td> <td>  6.2e-08</td> <td> 3.18e+14</td> <td> 0.000</td> <td> 1.97e+07</td> <td> 1.97e+07</td>\n",
       "</tr>\n",
       "</table>\n",
       "<table class=\"simpletable\">\n",
       "<tr>\n",
       "  <th>Ljung-Box (Q):</th>          <td>235.92</td> <th>  Jarque-Bera (JB):  </th> <td>317.08</td>\n",
       "</tr>\n",
       "<tr>\n",
       "  <th>Prob(Q):</th>                 <td>0.00</td>  <th>  Prob(JB):          </th>  <td>0.00</td> \n",
       "</tr>\n",
       "<tr>\n",
       "  <th>Heteroskedasticity (H):</th> <td>405.16</td> <th>  Skew:              </th>  <td>-0.88</td>\n",
       "</tr>\n",
       "<tr>\n",
       "  <th>Prob(H) (two-sided):</th>     <td>0.00</td>  <th>  Kurtosis:          </th>  <td>7.54</td> \n",
       "</tr>\n",
       "</table><br/><br/>Warnings:<br/>[1] Covariance matrix calculated using the outer product of gradients (complex-step).<br/>[2] Covariance matrix is singular or near-singular, with condition number 1.7e+30. Standard errors may be unstable."
      ],
      "text/plain": [
       "<class 'statsmodels.iolib.summary.Summary'>\n",
       "\"\"\"\n",
       "                               SARIMAX Results                                \n",
       "==============================================================================\n",
       "Dep. Variable:                      y   No. Observations:                  322\n",
       "Model:               SARIMAX(5, 2, 5)   Log Likelihood               -3094.049\n",
       "Date:                Mon, 23 Nov 2020   AIC                           6210.097\n",
       "Time:                        18:58:54   BIC                           6251.549\n",
       "Sample:                             0   HQIC                          6226.649\n",
       "                                - 322                                         \n",
       "Covariance Type:                  opg                                         \n",
       "==============================================================================\n",
       "                 coef    std err          z      P>|z|      [0.025      0.975]\n",
       "------------------------------------------------------------------------------\n",
       "ar.L1         -1.7671      0.192     -9.224      0.000      -2.143      -1.392\n",
       "ar.L2         -1.7353      0.384     -4.520      0.000      -2.488      -0.983\n",
       "ar.L3         -0.9268      0.457     -2.027      0.043      -1.823      -0.031\n",
       "ar.L4          0.0225      0.350      0.064      0.949      -0.663       0.708\n",
       "ar.L5          0.3815      0.146      2.610      0.009       0.095       0.668\n",
       "ma.L1          1.3567      0.181      7.508      0.000       1.003       1.711\n",
       "ma.L2          0.8572      0.273      3.140      0.002       0.322       1.392\n",
       "ma.L3         -0.1240      0.261     -0.475      0.634      -0.635       0.387\n",
       "ma.L4         -0.7194      0.155     -4.637      0.000      -1.024      -0.415\n",
       "ma.L5         -0.4749      0.082     -5.825      0.000      -0.635      -0.315\n",
       "sigma2      1.973e+07    6.2e-08   3.18e+14      0.000    1.97e+07    1.97e+07\n",
       "===================================================================================\n",
       "Ljung-Box (Q):                      235.92   Jarque-Bera (JB):               317.08\n",
       "Prob(Q):                              0.00   Prob(JB):                         0.00\n",
       "Heteroskedasticity (H):             405.16   Skew:                            -0.88\n",
       "Prob(H) (two-sided):                  0.00   Kurtosis:                         7.54\n",
       "===================================================================================\n",
       "\n",
       "Warnings:\n",
       "[1] Covariance matrix calculated using the outer product of gradients (complex-step).\n",
       "[2] Covariance matrix is singular or near-singular, with condition number 1.7e+30. Standard errors may be unstable.\n",
       "\"\"\""
      ]
     },
     "execution_count": 82,
     "metadata": {},
     "output_type": "execute_result"
    }
   ],
   "source": [
    "stepwise_fit.summary()"
   ]
  },
  {
   "cell_type": "code",
   "execution_count": 83,
   "metadata": {},
   "outputs": [],
   "source": [
    "from statsmodels.tsa.arima_model import ARIMA"
   ]
  },
  {
   "cell_type": "code",
   "execution_count": 84,
   "metadata": {},
   "outputs": [],
   "source": [
    "covidModel = ARIMA(df['value'], order=(5,2,5))"
   ]
  },
  {
   "cell_type": "code",
   "execution_count": 85,
   "metadata": {},
   "outputs": [],
   "source": [
    "covidModel=covidModel.fit()"
   ]
  },
  {
   "cell_type": "code",
   "execution_count": 86,
   "metadata": {},
   "outputs": [
    {
     "data": {
      "text/html": [
       "<table class=\"simpletable\">\n",
       "<caption>ARIMA Model Results</caption>\n",
       "<tr>\n",
       "  <th>Dep. Variable:</th>     <td>D2.value</td>     <th>  No. Observations:  </th>    <td>320</td>   \n",
       "</tr>\n",
       "<tr>\n",
       "  <th>Model:</th>          <td>ARIMA(5, 2, 5)</td>  <th>  Log Likelihood     </th> <td>-3071.027</td>\n",
       "</tr>\n",
       "<tr>\n",
       "  <th>Method:</th>             <td>css-mle</td>     <th>  S.D. of innovations</th> <td>3537.962</td> \n",
       "</tr>\n",
       "<tr>\n",
       "  <th>Date:</th>          <td>Mon, 23 Nov 2020</td> <th>  AIC                </th> <td>6166.054</td> \n",
       "</tr>\n",
       "<tr>\n",
       "  <th>Time:</th>              <td>18:59:01</td>     <th>  BIC                </th> <td>6211.274</td> \n",
       "</tr>\n",
       "<tr>\n",
       "  <th>Sample:</th>                <td>2</td>        <th>  HQIC               </th> <td>6184.111</td> \n",
       "</tr>\n",
       "<tr>\n",
       "  <th></th>                       <td> </td>        <th>                     </th>     <td> </td>    \n",
       "</tr>\n",
       "</table>\n",
       "<table class=\"simpletable\">\n",
       "<tr>\n",
       "         <td></td>           <th>coef</th>     <th>std err</th>      <th>z</th>      <th>P>|z|</th>  <th>[0.025</th>    <th>0.975]</th>  \n",
       "</tr>\n",
       "<tr>\n",
       "  <th>const</th>          <td>  -11.2265</td> <td>   84.544</td> <td>   -0.133</td> <td> 0.894</td> <td> -176.929</td> <td>  154.476</td>\n",
       "</tr>\n",
       "<tr>\n",
       "  <th>ar.L1.D2.value</th> <td>    0.2649</td> <td>    0.075</td> <td>    3.529</td> <td> 0.000</td> <td>    0.118</td> <td>    0.412</td>\n",
       "</tr>\n",
       "<tr>\n",
       "  <th>ar.L2.D2.value</th> <td>   -0.9589</td> <td>    0.067</td> <td>  -14.232</td> <td> 0.000</td> <td>   -1.091</td> <td>   -0.827</td>\n",
       "</tr>\n",
       "<tr>\n",
       "  <th>ar.L3.D2.value</th> <td>    0.0116</td> <td>    0.104</td> <td>    0.112</td> <td> 0.911</td> <td>   -0.192</td> <td>    0.215</td>\n",
       "</tr>\n",
       "<tr>\n",
       "  <th>ar.L4.D2.value</th> <td>   -0.5684</td> <td>    0.058</td> <td>   -9.746</td> <td> 0.000</td> <td>   -0.683</td> <td>   -0.454</td>\n",
       "</tr>\n",
       "<tr>\n",
       "  <th>ar.L5.D2.value</th> <td>   -0.4730</td> <td>    0.069</td> <td>   -6.901</td> <td> 0.000</td> <td>   -0.607</td> <td>   -0.339</td>\n",
       "</tr>\n",
       "<tr>\n",
       "  <th>ma.L1.D2.value</th> <td>   -0.8926</td> <td>    0.079</td> <td>  -11.258</td> <td> 0.000</td> <td>   -1.048</td> <td>   -0.737</td>\n",
       "</tr>\n",
       "<tr>\n",
       "  <th>ma.L2.D2.value</th> <td>    1.1929</td> <td>    0.092</td> <td>   13.020</td> <td> 0.000</td> <td>    1.013</td> <td>    1.372</td>\n",
       "</tr>\n",
       "<tr>\n",
       "  <th>ma.L3.D2.value</th> <td>   -0.7850</td> <td>    0.105</td> <td>   -7.512</td> <td> 0.000</td> <td>   -0.990</td> <td>   -0.580</td>\n",
       "</tr>\n",
       "<tr>\n",
       "  <th>ma.L4.D2.value</th> <td>    0.9164</td> <td>    0.064</td> <td>   14.430</td> <td> 0.000</td> <td>    0.792</td> <td>    1.041</td>\n",
       "</tr>\n",
       "<tr>\n",
       "  <th>ma.L5.D2.value</th> <td>   -0.2714</td> <td>    0.069</td> <td>   -3.945</td> <td> 0.000</td> <td>   -0.406</td> <td>   -0.137</td>\n",
       "</tr>\n",
       "</table>\n",
       "<table class=\"simpletable\">\n",
       "<caption>Roots</caption>\n",
       "<tr>\n",
       "    <td></td>   <th>            Real</th>  <th>         Imaginary</th> <th>         Modulus</th>  <th>        Frequency</th>\n",
       "</tr>\n",
       "<tr>\n",
       "  <th>AR.1</th> <td>           0.6256</td> <td>          -0.7873j</td> <td>           1.0056</td> <td>          -0.1431</td>\n",
       "</tr>\n",
       "<tr>\n",
       "  <th>AR.2</th> <td>           0.6256</td> <td>          +0.7873j</td> <td>           1.0056</td> <td>           0.1431</td>\n",
       "</tr>\n",
       "<tr>\n",
       "  <th>AR.3</th> <td>          -0.2465</td> <td>          -1.0031j</td> <td>           1.0329</td> <td>          -0.2884</td>\n",
       "</tr>\n",
       "<tr>\n",
       "  <th>AR.4</th> <td>          -0.2465</td> <td>          +1.0031j</td> <td>           1.0329</td> <td>           0.2884</td>\n",
       "</tr>\n",
       "<tr>\n",
       "  <th>AR.5</th> <td>          -1.9597</td> <td>          -0.0000j</td> <td>           1.9597</td> <td>          -0.5000</td>\n",
       "</tr>\n",
       "<tr>\n",
       "  <th>MA.1</th> <td>          -0.3735</td> <td>          -1.0171j</td> <td>           1.0835</td> <td>          -0.3060</td>\n",
       "</tr>\n",
       "<tr>\n",
       "  <th>MA.2</th> <td>          -0.3735</td> <td>          +1.0171j</td> <td>           1.0835</td> <td>           0.3060</td>\n",
       "</tr>\n",
       "<tr>\n",
       "  <th>MA.3</th> <td>           0.6543</td> <td>          -0.8288j</td> <td>           1.0559</td> <td>          -0.1436</td>\n",
       "</tr>\n",
       "<tr>\n",
       "  <th>MA.4</th> <td>           0.6543</td> <td>          +0.8288j</td> <td>           1.0559</td> <td>           0.1436</td>\n",
       "</tr>\n",
       "<tr>\n",
       "  <th>MA.5</th> <td>           2.8151</td> <td>          -0.0000j</td> <td>           2.8151</td> <td>          -0.0000</td>\n",
       "</tr>\n",
       "</table>"
      ],
      "text/plain": [
       "<class 'statsmodels.iolib.summary.Summary'>\n",
       "\"\"\"\n",
       "                             ARIMA Model Results                              \n",
       "==============================================================================\n",
       "Dep. Variable:               D2.value   No. Observations:                  320\n",
       "Model:                 ARIMA(5, 2, 5)   Log Likelihood               -3071.027\n",
       "Method:                       css-mle   S.D. of innovations           3537.962\n",
       "Date:                Mon, 23 Nov 2020   AIC                           6166.054\n",
       "Time:                        18:59:01   BIC                           6211.274\n",
       "Sample:                             2   HQIC                          6184.111\n",
       "                                                                              \n",
       "==================================================================================\n",
       "                     coef    std err          z      P>|z|      [0.025      0.975]\n",
       "----------------------------------------------------------------------------------\n",
       "const            -11.2265     84.544     -0.133      0.894    -176.929     154.476\n",
       "ar.L1.D2.value     0.2649      0.075      3.529      0.000       0.118       0.412\n",
       "ar.L2.D2.value    -0.9589      0.067    -14.232      0.000      -1.091      -0.827\n",
       "ar.L3.D2.value     0.0116      0.104      0.112      0.911      -0.192       0.215\n",
       "ar.L4.D2.value    -0.5684      0.058     -9.746      0.000      -0.683      -0.454\n",
       "ar.L5.D2.value    -0.4730      0.069     -6.901      0.000      -0.607      -0.339\n",
       "ma.L1.D2.value    -0.8926      0.079    -11.258      0.000      -1.048      -0.737\n",
       "ma.L2.D2.value     1.1929      0.092     13.020      0.000       1.013       1.372\n",
       "ma.L3.D2.value    -0.7850      0.105     -7.512      0.000      -0.990      -0.580\n",
       "ma.L4.D2.value     0.9164      0.064     14.430      0.000       0.792       1.041\n",
       "ma.L5.D2.value    -0.2714      0.069     -3.945      0.000      -0.406      -0.137\n",
       "                                    Roots                                    \n",
       "=============================================================================\n",
       "                  Real          Imaginary           Modulus         Frequency\n",
       "-----------------------------------------------------------------------------\n",
       "AR.1            0.6256           -0.7873j            1.0056           -0.1431\n",
       "AR.2            0.6256           +0.7873j            1.0056            0.1431\n",
       "AR.3           -0.2465           -1.0031j            1.0329           -0.2884\n",
       "AR.4           -0.2465           +1.0031j            1.0329            0.2884\n",
       "AR.5           -1.9597           -0.0000j            1.9597           -0.5000\n",
       "MA.1           -0.3735           -1.0171j            1.0835           -0.3060\n",
       "MA.2           -0.3735           +1.0171j            1.0835            0.3060\n",
       "MA.3            0.6543           -0.8288j            1.0559           -0.1436\n",
       "MA.4            0.6543           +0.8288j            1.0559            0.1436\n",
       "MA.5            2.8151           -0.0000j            2.8151           -0.0000\n",
       "-----------------------------------------------------------------------------\n",
       "\"\"\""
      ]
     },
     "execution_count": 86,
     "metadata": {},
     "output_type": "execute_result"
    }
   ],
   "source": [
    "covidModel.summary()"
   ]
  },
  {
   "cell_type": "code",
   "execution_count": 80,
   "metadata": {},
   "outputs": [
    {
     "data": {
      "text/html": [
       "<div>\n",
       "<style scoped>\n",
       "    .dataframe tbody tr th:only-of-type {\n",
       "        vertical-align: middle;\n",
       "    }\n",
       "\n",
       "    .dataframe tbody tr th {\n",
       "        vertical-align: top;\n",
       "    }\n",
       "\n",
       "    .dataframe thead th {\n",
       "        text-align: right;\n",
       "    }\n",
       "</style>\n",
       "<table border=\"1\" class=\"dataframe\">\n",
       "  <thead>\n",
       "    <tr style=\"text-align: right;\">\n",
       "      <th></th>\n",
       "      <th>rows</th>\n",
       "      <th>date</th>\n",
       "      <th>value</th>\n",
       "    </tr>\n",
       "  </thead>\n",
       "  <tbody>\n",
       "    <tr>\n",
       "      <td>1268</td>\n",
       "      <td>'2020-11-16T08:00:00.00+05:30', 'active_cases...</td>\n",
       "      <td>2020-11-16</td>\n",
       "      <td>465478</td>\n",
       "    </tr>\n",
       "    <tr>\n",
       "      <td>1272</td>\n",
       "      <td>'2020-11-17T08:00:00.00+05:30', 'active_cases...</td>\n",
       "      <td>2020-11-17</td>\n",
       "      <td>453401</td>\n",
       "    </tr>\n",
       "    <tr>\n",
       "      <td>1276</td>\n",
       "      <td>'2020-11-18T08:00:00.00+05:30', 'active_cases...</td>\n",
       "      <td>2020-11-18</td>\n",
       "      <td>446805</td>\n",
       "    </tr>\n",
       "    <tr>\n",
       "      <td>1280</td>\n",
       "      <td>'2020-11-19T08:00:00.00+05:30', 'active_cases...</td>\n",
       "      <td>2020-11-19</td>\n",
       "      <td>443303</td>\n",
       "    </tr>\n",
       "    <tr>\n",
       "      <td>1284</td>\n",
       "      <td>'2020-11-20T08:00:00.00+05:30', 'active_cases...</td>\n",
       "      <td>2020-11-20</td>\n",
       "      <td>443794</td>\n",
       "    </tr>\n",
       "  </tbody>\n",
       "</table>\n",
       "</div>"
      ],
      "text/plain": [
       "                                                   rows       date   value\n",
       "1268   '2020-11-16T08:00:00.00+05:30', 'active_cases... 2020-11-16  465478\n",
       "1272   '2020-11-17T08:00:00.00+05:30', 'active_cases... 2020-11-17  453401\n",
       "1276   '2020-11-18T08:00:00.00+05:30', 'active_cases... 2020-11-18  446805\n",
       "1280   '2020-11-19T08:00:00.00+05:30', 'active_cases... 2020-11-19  443303\n",
       "1284   '2020-11-20T08:00:00.00+05:30', 'active_cases... 2020-11-20  443794"
      ]
     },
     "execution_count": 80,
     "metadata": {},
     "output_type": "execute_result"
    }
   ],
   "source": [
    "df.tail()"
   ]
  },
  {
   "cell_type": "code",
   "execution_count": 81,
   "metadata": {},
   "outputs": [],
   "source": [
    "prediction = covidModel.predict(start=len(df), end=len(df)+30,typ='levels' ).rename('Covid Prediction')"
   ]
  },
  {
   "cell_type": "code",
   "execution_count": 82,
   "metadata": {},
   "outputs": [],
   "source": [
    "prediction.index=pd.date_range(start=\"2020-11-21\",end=\"2020-12-21\").tolist()"
   ]
  },
  {
   "cell_type": "code",
   "execution_count": 83,
   "metadata": {
    "scrolled": true
   },
   "outputs": [
    {
     "data": {
      "text/plain": [
       "31"
      ]
     },
     "execution_count": 83,
     "metadata": {},
     "output_type": "execute_result"
    }
   ],
   "source": [
    "len(prediction)"
   ]
  },
  {
   "cell_type": "code",
   "execution_count": 84,
   "metadata": {
    "scrolled": false
   },
   "outputs": [
    {
     "data": {
      "text/plain": [
       "2020-11-21    441679.750008\n",
       "2020-11-22    441463.858160\n",
       "2020-11-23    434571.785381\n",
       "2020-11-24    426432.922185\n",
       "2020-11-25    422047.812938\n",
       "2020-11-26    419898.131730\n",
       "2020-11-27    417592.891104\n",
       "2020-11-28    416982.257265\n",
       "2020-11-29    415421.274036\n",
       "2020-11-30    408905.156341\n",
       "2020-12-01    401007.635687\n",
       "2020-12-02    396564.345628\n",
       "2020-12-03    394011.446278\n",
       "2020-12-04    391866.457077\n",
       "2020-12-05    391155.203149\n",
       "2020-12-06    389114.099825\n",
       "2020-12-07    382611.770263\n",
       "2020-12-08    375062.708178\n",
       "2020-12-09    370460.301977\n",
       "2020-12-10    367637.709456\n",
       "2020-12-11    365583.090503\n",
       "2020-12-12    364733.920473\n",
       "2020-12-13    362278.073301\n",
       "2020-12-14    355813.655969\n",
       "2020-12-15    348532.885538\n",
       "2020-12-16    343782.000384\n",
       "2020-12-17    340750.165787\n",
       "2020-12-18    338746.170540\n",
       "2020-12-19    337724.865689\n",
       "2020-12-20    334915.893850\n",
       "2020-12-21    328498.675426\n",
       "Name: Covid Prediction, dtype: float64"
      ]
     },
     "execution_count": 84,
     "metadata": {},
     "output_type": "execute_result"
    }
   ],
   "source": [
    "prediction"
   ]
  },
  {
   "cell_type": "code",
   "execution_count": 85,
   "metadata": {},
   "outputs": [
    {
     "data": {
      "text/plain": [
       "<matplotlib.axes._subplots.AxesSubplot at 0x204bc146ec8>"
      ]
     },
     "execution_count": 85,
     "metadata": {},
     "output_type": "execute_result"
    },
    {
     "data": {
      "image/png": "[encoded data removed]",
      "text/plain": [
       "<Figure size 864x360 with 1 Axes>"
      ]
     },
     "metadata": {
      "needs_background": "light"
     },
     "output_type": "display_data"
    }
   ],
   "source": [
    "prediction.plot(figsize=(12,5),legend=True)"
   ]
  },
  {
   "cell_type": "code",
   "execution_count": null,
   "metadata": {},
   "outputs": [],
   "source": []
  }
 ],
 "metadata": {
  "kernelspec": {
   "display_name": "Python 3",
   "language": "python",
   "name": "python3"
  },
  "language_info": {
   "codemirror_mode": {
    "name": "ipython",
    "version": 3
   },
   "file_extension": ".py",
   "mimetype": "text/x-python",
   "name": "python",
   "nbconvert_exporter": "python",
   "pygments_lexer": "ipython3",
   "version": "3.7.4"
  }
 },
 "nbformat": 4,
 "nbformat_minor": 2
}
